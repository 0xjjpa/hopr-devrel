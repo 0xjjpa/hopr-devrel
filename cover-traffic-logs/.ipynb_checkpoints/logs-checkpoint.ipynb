{
 "cells": [
  {
   "cell_type": "code",
   "execution_count": 1,
   "metadata": {},
   "outputs": [
    {
     "name": "stdout",
     "output_type": "stream",
     "text": [
      "Requirement already satisfied: pandas in c:\\users\\szany\\anaconda3\\lib\\site-packages (1.1.5)\n",
      "Requirement already satisfied: matplotlib in c:\\users\\szany\\anaconda3\\lib\\site-packages (2.2.2)\n",
      "Requirement already satisfied: colour in c:\\users\\szany\\anaconda3\\lib\\site-packages (0.1.5)\n",
      "Requirement already satisfied: numpy in c:\\users\\szany\\anaconda3\\lib\\site-packages (1.16.4)\n",
      "Requirement already satisfied: pytz>=2017.2 in c:\\users\\szany\\anaconda3\\lib\\site-packages (from pandas) (2019.1)\n",
      "Requirement already satisfied: python-dateutil>=2.7.3 in c:\\users\\szany\\anaconda3\\lib\\site-packages (from pandas) (2.8.0)\n",
      "Requirement already satisfied: cycler>=0.10 in c:\\users\\szany\\anaconda3\\lib\\site-packages (from matplotlib) (0.10.0)\n",
      "Requirement already satisfied: pyparsing!=2.0.4,!=2.1.2,!=2.1.6,>=2.0.1 in c:\\users\\szany\\anaconda3\\lib\\site-packages (from matplotlib) (2.4.0)\n",
      "Requirement already satisfied: six>=1.10 in c:\\users\\szany\\anaconda3\\lib\\site-packages (from matplotlib) (1.12.0)\n",
      "Requirement already satisfied: kiwisolver>=1.0.1 in c:\\users\\szany\\anaconda3\\lib\\site-packages (from matplotlib) (1.1.0)\n",
      "Requirement already satisfied: setuptools in c:\\users\\szany\\anaconda3\\lib\\site-packages (from kiwisolver>=1.0.1->matplotlib) (41.0.1)\n"
     ]
    }
   ],
   "source": [
    "import sys\n",
    "!{sys.executable} -m pip install pandas matplotlib colour numpy"
   ]
  },
  {
   "cell_type": "code",
   "execution_count": 2,
   "metadata": {},
   "outputs": [],
   "source": [
    "import pandas as pd\n",
    "import numpy as np\n",
    "import matplotlib.pyplot as plt"
   ]
  },
  {
   "cell_type": "code",
   "execution_count": 3,
   "metadata": {},
   "outputs": [],
   "source": [
    "plt.close(\"all\")\n",
    "dir_logs = \"./imports/\"\n",
    "tick_file = \"strategy-tick.csv\"\n",
    "update_file = \"state-update.csv\""
   ]
  },
  {
   "cell_type": "code",
   "execution_count": 4,
   "metadata": {},
   "outputs": [],
   "source": [
    "def get_timestamp_payload(path):\n",
    "    raw_data = pd.read_csv(path)\n",
    "    data = raw_data[[\"jsonPayload.message\", \"timestamp\"]]\n",
    "    data.columns = [\"payload\", \"timestamp\"]\n",
    "    data = data.assign(payload_timestamp = data[\"payload\"].str.extract(r'(.+?(?=\\shopr:cover-traffic\\s))'))\n",
    "    data[\"payload\"] = data[\"payload\"].str.extract(r'hopr:cover-traffic\\s(.*)')\n",
    "    return data"
   ]
  },
  {
   "cell_type": "code",
   "execution_count": 5,
   "metadata": {},
   "outputs": [],
   "source": [
    "def parse_strategy_tick(data):\n",
    "    data = data.assign(tick_timestamp = data[\"payload\"].str.extract(r'strategy tick:\\s?(\\d*)\\s', expand=False))\n",
    "    data = data.assign(balance = data[\"payload\"].str.extract(r'balance:\\s?(\\d*)\\s'))\n",
    "    data = data.assign(rounded_balance = data[\"balance\"].astype(float).div(1e18))\n",
    "    data = data.assign(open_to_node = data[\"payload\"].str.extract(r'open:\\s?([\\w\\,]*)\\s'))\n",
    "    data = data.assign(close_to_node = data[\"payload\"].str.extract(r'close:\\s?([\\w\\,]*)\\s?'))\n",
    "    data[\"tick_timestamp\"] =  pd.to_datetime(data[\"tick_timestamp\"].apply(pd.to_numeric), unit=\"ms\")\n",
    "    return data[[\"timestamp\", \"payload_timestamp\", \"tick_timestamp\", \"balance\", \"rounded_balance\", \"open_to_node\", \"close_to_node\"]]"
   ]
  },
  {
   "cell_type": "code",
   "execution_count": 6,
   "metadata": {},
   "outputs": [],
   "source": [
    "tick_logs = parse_strategy_tick(get_timestamp_payload(dir_logs + tick_file))"
   ]
  },
  {
   "cell_type": "code",
   "execution_count": 7,
   "metadata": {},
   "outputs": [
    {
     "data": {
      "text/html": [
       "<div>\n",
       "<style scoped>\n",
       "    .dataframe tbody tr th:only-of-type {\n",
       "        vertical-align: middle;\n",
       "    }\n",
       "\n",
       "    .dataframe tbody tr th {\n",
       "        vertical-align: top;\n",
       "    }\n",
       "\n",
       "    .dataframe thead th {\n",
       "        text-align: right;\n",
       "    }\n",
       "</style>\n",
       "<table border=\"1\" class=\"dataframe\">\n",
       "  <thead>\n",
       "    <tr style=\"text-align: right;\">\n",
       "      <th></th>\n",
       "      <th>timestamp</th>\n",
       "      <th>payload_timestamp</th>\n",
       "      <th>tick_timestamp</th>\n",
       "      <th>balance</th>\n",
       "      <th>rounded_balance</th>\n",
       "      <th>open_to_node</th>\n",
       "      <th>close_to_node</th>\n",
       "    </tr>\n",
       "  </thead>\n",
       "  <tbody>\n",
       "    <tr>\n",
       "      <th>0</th>\n",
       "      <td>2021-10-09T10:20:43.456583458Z</td>\n",
       "      <td>2021-10-09T10:20:43.440Z</td>\n",
       "      <td>2021-10-09 10:20:43.440</td>\n",
       "      <td>100999999999999994000</td>\n",
       "      <td>101.0</td>\n",
       "      <td></td>\n",
       "      <td></td>\n",
       "    </tr>\n",
       "    <tr>\n",
       "      <th>1</th>\n",
       "      <td>2021-10-09T10:20:33.272554402Z</td>\n",
       "      <td>2021-10-09T10:20:33.255Z</td>\n",
       "      <td>2021-10-09 10:20:33.255</td>\n",
       "      <td>100999999999999994000</td>\n",
       "      <td>101.0</td>\n",
       "      <td></td>\n",
       "      <td></td>\n",
       "    </tr>\n",
       "    <tr>\n",
       "      <th>2</th>\n",
       "      <td>2021-10-09T10:20:23.181758667Z</td>\n",
       "      <td>2021-10-09T10:20:23.169Z</td>\n",
       "      <td>2021-10-09 10:20:23.169</td>\n",
       "      <td>100999999999999994000</td>\n",
       "      <td>101.0</td>\n",
       "      <td></td>\n",
       "      <td></td>\n",
       "    </tr>\n",
       "    <tr>\n",
       "      <th>3</th>\n",
       "      <td>2021-10-09T10:20:13.078857921Z</td>\n",
       "      <td>2021-10-09T10:20:13.074Z</td>\n",
       "      <td>2021-10-09 10:20:13.074</td>\n",
       "      <td>100999999999999994000</td>\n",
       "      <td>101.0</td>\n",
       "      <td></td>\n",
       "      <td></td>\n",
       "    </tr>\n",
       "    <tr>\n",
       "      <th>4</th>\n",
       "      <td>2021-10-09T10:19:41.807554045Z</td>\n",
       "      <td>2021-10-09T10:19:41.791Z</td>\n",
       "      <td>2021-10-09 10:19:41.791</td>\n",
       "      <td>100999999999999994000</td>\n",
       "      <td>101.0</td>\n",
       "      <td></td>\n",
       "      <td></td>\n",
       "    </tr>\n",
       "    <tr>\n",
       "      <th>...</th>\n",
       "      <td>...</td>\n",
       "      <td>...</td>\n",
       "      <td>...</td>\n",
       "      <td>...</td>\n",
       "      <td>...</td>\n",
       "      <td>...</td>\n",
       "      <td>...</td>\n",
       "    </tr>\n",
       "    <tr>\n",
       "      <th>8101</th>\n",
       "      <td>2021-10-08T11:16:05.401685712Z</td>\n",
       "      <td>2021-10-08T11:16:05.400Z</td>\n",
       "      <td>2021-10-08 11:16:05.400</td>\n",
       "      <td>100999999999999993000</td>\n",
       "      <td>101.0</td>\n",
       "      <td></td>\n",
       "      <td></td>\n",
       "    </tr>\n",
       "    <tr>\n",
       "      <th>8102</th>\n",
       "      <td>2021-10-07T16:11:18.420668286Z</td>\n",
       "      <td>2021-10-07T16:11:18.404Z</td>\n",
       "      <td>2021-10-07 16:11:18.404</td>\n",
       "      <td>100999999999999993000</td>\n",
       "      <td>101.0</td>\n",
       "      <td></td>\n",
       "      <td>16Uiu2HAmHnyJaC8whSRBXXk3ikPuH19g52ZgxvA3sUnpV...</td>\n",
       "    </tr>\n",
       "    <tr>\n",
       "      <th>8103</th>\n",
       "      <td>2021-10-07T16:10:24.141280277Z</td>\n",
       "      <td>2021-10-07T16:10:24.128Z</td>\n",
       "      <td>2021-10-07 16:10:24.128</td>\n",
       "      <td>100999999999999993000</td>\n",
       "      <td>101.0</td>\n",
       "      <td></td>\n",
       "      <td>16Uiu2HAmHnyJaC8whSRBXXk3ikPuH19g52ZgxvA3sUnpV...</td>\n",
       "    </tr>\n",
       "    <tr>\n",
       "      <th>8104</th>\n",
       "      <td>2021-10-07T16:09:30.870781784Z</td>\n",
       "      <td>2021-10-07T16:09:30.857Z</td>\n",
       "      <td>2021-10-07 16:09:30.857</td>\n",
       "      <td>100999999999999993000</td>\n",
       "      <td>101.0</td>\n",
       "      <td></td>\n",
       "      <td>16Uiu2HAmHnyJaC8whSRBXXk3ikPuH19g52ZgxvA3sUnpV...</td>\n",
       "    </tr>\n",
       "    <tr>\n",
       "      <th>8105</th>\n",
       "      <td>2021-10-07T16:08:34.993477294Z</td>\n",
       "      <td>2021-10-07T16:08:34.954Z</td>\n",
       "      <td>2021-10-07 16:08:34.954</td>\n",
       "      <td>100999999999999992000</td>\n",
       "      <td>101.0</td>\n",
       "      <td></td>\n",
       "      <td></td>\n",
       "    </tr>\n",
       "  </tbody>\n",
       "</table>\n",
       "<p>8106 rows × 7 columns</p>\n",
       "</div>"
      ],
      "text/plain": [
       "                           timestamp         payload_timestamp  \\\n",
       "0     2021-10-09T10:20:43.456583458Z  2021-10-09T10:20:43.440Z   \n",
       "1     2021-10-09T10:20:33.272554402Z  2021-10-09T10:20:33.255Z   \n",
       "2     2021-10-09T10:20:23.181758667Z  2021-10-09T10:20:23.169Z   \n",
       "3     2021-10-09T10:20:13.078857921Z  2021-10-09T10:20:13.074Z   \n",
       "4     2021-10-09T10:19:41.807554045Z  2021-10-09T10:19:41.791Z   \n",
       "...                              ...                       ...   \n",
       "8101  2021-10-08T11:16:05.401685712Z  2021-10-08T11:16:05.400Z   \n",
       "8102  2021-10-07T16:11:18.420668286Z  2021-10-07T16:11:18.404Z   \n",
       "8103  2021-10-07T16:10:24.141280277Z  2021-10-07T16:10:24.128Z   \n",
       "8104  2021-10-07T16:09:30.870781784Z  2021-10-07T16:09:30.857Z   \n",
       "8105  2021-10-07T16:08:34.993477294Z  2021-10-07T16:08:34.954Z   \n",
       "\n",
       "              tick_timestamp                balance  rounded_balance  \\\n",
       "0    2021-10-09 10:20:43.440  100999999999999994000            101.0   \n",
       "1    2021-10-09 10:20:33.255  100999999999999994000            101.0   \n",
       "2    2021-10-09 10:20:23.169  100999999999999994000            101.0   \n",
       "3    2021-10-09 10:20:13.074  100999999999999994000            101.0   \n",
       "4    2021-10-09 10:19:41.791  100999999999999994000            101.0   \n",
       "...                      ...                    ...              ...   \n",
       "8101 2021-10-08 11:16:05.400  100999999999999993000            101.0   \n",
       "8102 2021-10-07 16:11:18.404  100999999999999993000            101.0   \n",
       "8103 2021-10-07 16:10:24.128  100999999999999993000            101.0   \n",
       "8104 2021-10-07 16:09:30.857  100999999999999993000            101.0   \n",
       "8105 2021-10-07 16:08:34.954  100999999999999992000            101.0   \n",
       "\n",
       "     open_to_node                                      close_to_node  \n",
       "0                                                                     \n",
       "1                                                                     \n",
       "2                                                                     \n",
       "3                                                                     \n",
       "4                                                                     \n",
       "...           ...                                                ...  \n",
       "8101                                                                  \n",
       "8102               16Uiu2HAmHnyJaC8whSRBXXk3ikPuH19g52ZgxvA3sUnpV...  \n",
       "8103               16Uiu2HAmHnyJaC8whSRBXXk3ikPuH19g52ZgxvA3sUnpV...  \n",
       "8104               16Uiu2HAmHnyJaC8whSRBXXk3ikPuH19g52ZgxvA3sUnpV...  \n",
       "8105                                                                  \n",
       "\n",
       "[8106 rows x 7 columns]"
      ]
     },
     "execution_count": 7,
     "metadata": {},
     "output_type": "execute_result"
    }
   ],
   "source": [
    "tick_logs"
   ]
  },
  {
   "cell_type": "code",
   "execution_count": 8,
   "metadata": {},
   "outputs": [
    {
     "data": {
      "text/plain": [
       "timestamp                    object\n",
       "payload_timestamp            object\n",
       "tick_timestamp       datetime64[ns]\n",
       "balance                      object\n",
       "rounded_balance             float64\n",
       "open_to_node                 object\n",
       "close_to_node                object\n",
       "dtype: object"
      ]
     },
     "execution_count": 8,
     "metadata": {},
     "output_type": "execute_result"
    }
   ],
   "source": [
    "tick_logs.dtypes"
   ]
  },
  {
   "cell_type": "code",
   "execution_count": null,
   "metadata": {},
   "outputs": [
    {
     "data": {
      "text/plain": [
       "<matplotlib.axes._subplots.AxesSubplot at 0x2155193c160>"
      ]
     },
     "execution_count": 9,
     "metadata": {},
     "output_type": "execute_result"
    },
    {
     "data": {
      "text/plain": [
       "<Figure size 432x288 with 0 Axes>"
      ]
     },
     "metadata": {},
     "output_type": "display_data"
    }
   ],
   "source": [
    "plt.figure()\n",
    "tick_logs.plot(x=\"tick_timestamp\", y=\"rounded_balance\", kind=\"bar\")"
   ]
  },
  {
   "cell_type": "code",
   "execution_count": null,
   "metadata": {},
   "outputs": [],
   "source": []
  }
 ],
 "metadata": {
  "interpreter": {
   "hash": "31f2aee4e71d21fbe5cf8b01ff0e069b9275f58929596ceb00d14d90e3e16cd6"
  },
  "kernelspec": {
   "display_name": "Python 3",
   "language": "python",
   "name": "python3"
  },
  "language_info": {
   "codemirror_mode": {
    "name": "ipython",
    "version": 3
   },
   "file_extension": ".py",
   "mimetype": "text/x-python",
   "name": "python",
   "nbconvert_exporter": "python",
   "pygments_lexer": "ipython3",
   "version": "3.7.1"
  }
 },
 "nbformat": 4,
 "nbformat_minor": 2
}
