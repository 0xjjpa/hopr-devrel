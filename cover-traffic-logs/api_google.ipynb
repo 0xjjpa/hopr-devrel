{
 "cells": [
  {
   "cell_type": "code",
   "execution_count": null,
   "id": "bf1b19a0",
   "metadata": {},
   "outputs": [],
   "source": [
    "pip install --upgrade google-cloud-logging"
   ]
  },
  {
   "cell_type": "code",
   "execution_count": null,
   "id": "7f7ffa18",
   "metadata": {},
   "outputs": [],
   "source": [
    "from google.cloud import logging"
   ]
  },
  {
   "cell_type": "code",
   "execution_count": null,
   "id": "b6bbb5b6",
   "metadata": {},
   "outputs": [],
   "source": [
    "from google.cloud import storage"
   ]
  },
  {
   "cell_type": "code",
   "execution_count": null,
   "id": "d19ce5bf",
   "metadata": {},
   "outputs": [],
   "source": [
    "import google.cloud.logging"
   ]
  },
  {
   "cell_type": "code",
   "execution_count": null,
   "id": "8837a8d0",
   "metadata": {},
   "outputs": [],
   "source": [
    "from datetime import datetime\n",
    "from datetime import timedelta\n",
    "from datetime import timezone"
   ]
  },
  {
   "cell_type": "code",
   "execution_count": null,
   "id": "1937d46a",
   "metadata": {},
   "outputs": [],
   "source": [
    "client = google.cloud.logging.Client()"
   ]
  },
  {
   "cell_type": "code",
   "execution_count": null,
   "id": "f9777251",
   "metadata": {},
   "outputs": [],
   "source": [
    "logging_client = logging.Client()"
   ]
  },
  {
   "cell_type": "code",
   "execution_count": null,
   "id": "62a34c0a",
   "metadata": {
    "scrolled": true
   },
   "outputs": [],
   "source": [
    "#for entry in client.list_entries():  # API call(s)\n",
    "    #print(entry)"
   ]
  },
  {
   "cell_type": "markdown",
   "id": "0e7eb849",
   "metadata": {},
   "source": [
    "documentation: \n",
    "https://cloud.google.com/logging/docs/view/advanced-queries\n",
    "https://gcloud.readthedocs.io/en/latest/logging-client.html\n",
    "by default only 24 hours "
   ]
  },
  {
   "cell_type": "code",
   "execution_count": null,
   "id": "341fa712",
   "metadata": {},
   "outputs": [],
   "source": [
    "filter_str = 'resource.type=\"gce_instance\" AND resource.labels.instance_id=\"7872204418567022049\" AND timestamp >= \"2021-10-07T00:00:00.000z\" AND jsonPayload.message:\"strategy tick: \"'"
   ]
  },
  {
   "cell_type": "code",
   "execution_count": null,
   "id": "a1bf9359",
   "metadata": {},
   "outputs": [],
   "source": [
    "filter_str2 = 'resource.type=\"gce_instance\" AND resource.labels.instance_id=\"7872204418567022049\" AND timestamp >= \"2021-10-07T00:00:00.000z\" AND timestamp < \"2021-10-11T00:00:00.000z\" AND jsonPayload.message:\"strategy tick: \"'"
   ]
  },
  {
   "cell_type": "code",
   "execution_count": null,
   "id": "2f390989",
   "metadata": {
    "scrolled": false
   },
   "outputs": [],
   "source": [
    "for entry in client.list_entries(filter_=filter_str2):  # API call(s)\n",
    "    print(entry)"
   ]
  },
  {
   "cell_type": "code",
   "execution_count": null,
   "id": "b16474b5",
   "metadata": {},
   "outputs": [],
   "source": []
  }
 ],
 "metadata": {
  "kernelspec": {
   "display_name": "Python 3 (ipykernel)",
   "language": "python",
   "name": "python3"
  },
  "language_info": {
   "codemirror_mode": {
    "name": "ipython",
    "version": 3
   },
   "file_extension": ".py",
   "mimetype": "text/x-python",
   "name": "python",
   "nbconvert_exporter": "python",
   "pygments_lexer": "ipython3",
   "version": "3.7.1"
  }
 },
 "nbformat": 4,
 "nbformat_minor": 5
}
