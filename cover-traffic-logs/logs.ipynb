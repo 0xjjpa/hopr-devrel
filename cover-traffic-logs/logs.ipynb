{
 "cells": [
  {
   "cell_type": "code",
   "execution_count": null,
   "metadata": {},
   "outputs": [],
   "source": [
    "import sys\n",
    "!{sys.executable} -m pip install pandas matplotlib colour numpy"
   ]
  },
  {
   "cell_type": "code",
   "execution_count": null,
   "metadata": {},
   "outputs": [],
   "source": [
    "import pandas as pd\n",
    "import numpy as np\n",
    "import matplotlib.pyplot as plt"
   ]
  },
  {
   "cell_type": "code",
   "execution_count": null,
   "metadata": {},
   "outputs": [],
   "source": [
    "plt.close(\"all\")\n",
    "dir_logs = \"./imports/\"\n",
    "tick_file = \"strategy-tick.csv\"\n",
    "update_file = \"state-update.csv\""
   ]
  },
  {
   "cell_type": "code",
   "execution_count": null,
   "metadata": {},
   "outputs": [],
   "source": [
    "def get_timestamp_payload(path):\n",
    "    raw_data = pd.read_csv(path)\n",
    "    data = raw_data[[\"jsonPayload.message\", \"timestamp\"]]\n",
    "    data.columns = [\"payload\", \"timestamp\"]\n",
    "    data = data.assign(payload_timestamp = data[\"payload\"].str.extract(r'(.+?(?=\\shopr:cover-traffic\\s))'))\n",
    "    data[\"payload\"] = data[\"payload\"].str.extract(r'hopr:cover-traffic\\s(.*)')\n",
    "    return data"
   ]
  },
  {
   "cell_type": "code",
   "execution_count": null,
   "metadata": {},
   "outputs": [],
   "source": [
    "def parse_strategy_tick(data):\n",
    "    data = data.assign(tick_timestamp = data[\"payload\"].str.extract(r'strategy tick:\\s?(\\d*)\\s', expand=False))\n",
    "    data = data.assign(balance = data[\"payload\"].str.extract(r'balance:\\s?(\\d*)\\s'))\n",
    "    data = data.assign(rounded_balance = data[\"balance\"].astype(float).div(1e18))\n",
    "    data = data.assign(open_to_node = data[\"payload\"].str.extract(r'open:\\s?([\\w\\,]*)\\s'))\n",
    "    data = data.assign(close_to_node = data[\"payload\"].str.extract(r'close:\\s?([\\w\\,]*)\\s?'))\n",
    "    data[\"tick_timestamp\"] =  pd.to_datetime(data[\"tick_timestamp\"].apply(pd.to_numeric), unit=\"ms\")\n",
    "    return data[[\"timestamp\", \"payload_timestamp\", \"tick_timestamp\", \"balance\", \"rounded_balance\", \"open_to_node\", \"close_to_node\"]]"
   ]
  },
  {
   "cell_type": "code",
   "execution_count": null,
   "metadata": {},
   "outputs": [],
   "source": [
    "tick_logs = parse_strategy_tick(get_timestamp_payload(dir_logs + tick_file))"
   ]
  },
  {
   "cell_type": "code",
   "execution_count": null,
   "metadata": {},
   "outputs": [],
   "source": [
    "tick_logs"
   ]
  },
  {
   "cell_type": "code",
   "execution_count": null,
   "metadata": {},
   "outputs": [],
   "source": [
    "tick_logs.dtypes"
   ]
  },
  {
   "cell_type": "code",
   "execution_count": null,
   "metadata": {},
   "outputs": [],
   "source": [
    "plt.figure()\n",
    "tick_logs.plot(x=\"tick_timestamp\", y=\"rounded_balance\", kind=\"bar\")"
   ]
  },
  {
   "cell_type": "code",
   "execution_count": null,
   "metadata": {},
   "outputs": [],
   "source": []
  }
 ],
 "metadata": {
  "interpreter": {
   "hash": "31f2aee4e71d21fbe5cf8b01ff0e069b9275f58929596ceb00d14d90e3e16cd6"
  },
  "kernelspec": {
   "display_name": "Python 3 (ipykernel)",
   "language": "python",
   "name": "python3"
  },
  "language_info": {
   "codemirror_mode": {
    "name": "ipython",
    "version": 3
   },
   "file_extension": ".py",
   "mimetype": "text/x-python",
   "name": "python",
   "nbconvert_exporter": "python",
   "pygments_lexer": "ipython3",
   "version": "3.7.1"
  }
 },
 "nbformat": 4,
 "nbformat_minor": 2
}
