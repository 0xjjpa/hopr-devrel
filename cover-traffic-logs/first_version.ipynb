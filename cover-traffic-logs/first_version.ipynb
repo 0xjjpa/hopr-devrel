{
 "cells": [
  {
   "cell_type": "code",
   "execution_count": 1,
   "metadata": {
    "scrolled": true
   },
   "outputs": [
    {
     "name": "stdout",
     "output_type": "stream",
     "text": [
      "Requirement already satisfied: pandas in c:\\users\\szany\\anaconda3\\lib\\site-packages (1.1.5)\n",
      "Requirement already satisfied: matplotlib in c:\\users\\szany\\anaconda3\\lib\\site-packages (2.2.2)\n",
      "Requirement already satisfied: colour in c:\\users\\szany\\anaconda3\\lib\\site-packages (0.1.5)\n",
      "Requirement already satisfied: numpy in c:\\users\\szany\\anaconda3\\lib\\site-packages (1.16.4)\n",
      "Requirement already satisfied: BigNumber in c:\\users\\szany\\anaconda3\\lib\\site-packages (1)\n",
      "Requirement already satisfied: python-dateutil>=2.7.3 in c:\\users\\szany\\anaconda3\\lib\\site-packages (from pandas) (2.8.2)\n",
      "Requirement already satisfied: pytz>=2017.2 in c:\\users\\szany\\anaconda3\\lib\\site-packages (from pandas) (2021.3)\n",
      "Requirement already satisfied: cycler>=0.10 in c:\\users\\szany\\anaconda3\\lib\\site-packages (from matplotlib) (0.10.0)\n",
      "Requirement already satisfied: pyparsing!=2.0.4,!=2.1.2,!=2.1.6,>=2.0.1 in c:\\users\\szany\\anaconda3\\lib\\site-packages (from matplotlib) (2.4.7)\n",
      "Requirement already satisfied: six>=1.10 in c:\\users\\szany\\anaconda3\\lib\\site-packages (from matplotlib) (1.16.0)\n",
      "Requirement already satisfied: kiwisolver>=1.0.1 in c:\\users\\szany\\anaconda3\\lib\\site-packages (from matplotlib) (1.3.1)\n"
     ]
    }
   ],
   "source": [
    "import sys\n",
    "!{sys.executable} -m pip install pandas matplotlib colour numpy BigNumber"
   ]
  },
  {
   "cell_type": "code",
   "execution_count": 2,
   "metadata": {},
   "outputs": [],
   "source": [
    "import requests\n",
    "import json\n",
    "import pandas as pd\n",
    "import time\n",
    "from datetime import datetime\n",
    "from os import path\n",
    "import requests\n",
    "import seaborn as sns; sns.set()\n",
    "import matplotlib.pyplot as plt\n",
    "%matplotlib inline\n",
    "import numpy as np; np.random.seed(0)\n",
    "from datetime import date\n",
    "import scipy.stats"
   ]
  },
  {
   "cell_type": "code",
   "execution_count": 3,
   "metadata": {},
   "outputs": [],
   "source": [
    "from __future__ import print_function\n",
    "import matplotlib.ticker as ticker\n",
    "from colour import Color"
   ]
  },
  {
   "cell_type": "code",
   "execution_count": 4,
   "metadata": {},
   "outputs": [],
   "source": [
    "color1 = '#%02x%02x%02x' % (25, 114, 120)\n",
    "color2 = '#%02x%02x%02x' % (237, 221, 212)\n",
    "color3 = '#%02x%02x%02x' % (196, 69, 54)"
   ]
  },
  {
   "cell_type": "code",
   "execution_count": 5,
   "metadata": {},
   "outputs": [],
   "source": [
    "from setuptools import setup"
   ]
  },
  {
   "cell_type": "code",
   "execution_count": 6,
   "metadata": {},
   "outputs": [],
   "source": [
    "from BigNumber import *\n",
    "from timeit import default_timer as timer"
   ]
  },
  {
   "cell_type": "code",
   "execution_count": 7,
   "metadata": {},
   "outputs": [],
   "source": [
    "from mpmath import *\n",
    "mp.pretty = True"
   ]
  },
  {
   "cell_type": "code",
   "execution_count": 8,
   "metadata": {
    "scrolled": true
   },
   "outputs": [],
   "source": [
    "pd.options.display.max_columns = None"
   ]
  },
  {
   "cell_type": "code",
   "execution_count": 9,
   "metadata": {},
   "outputs": [],
   "source": [
    "plt.close(\"all\")\n",
    "dir_logs = \"./imports/\"\n",
    "tick_file = \"strategy-tick.csv\"\n",
    "update_file = \"state-update.csv\""
   ]
  },
  {
   "cell_type": "code",
   "execution_count": 10,
   "metadata": {},
   "outputs": [],
   "source": [
    "def get_timestamp_payload(path):\n",
    "    raw_data = pd.read_csv(path)\n",
    "    data = raw_data[[\"jsonPayload.message\", \"timestamp\"]]\n",
    "    data.columns = [\"payload\", \"timestamp\"]\n",
    "    data = data.assign(payload_timestamp = data[\"payload\"].str.extract(r'(.+?(?=\\shopr:cover-traffic\\s))'))\n",
    "    data[\"payload\"] = data[\"payload\"].str.extract(r'hopr:cover-traffic\\s(.*)')\n",
    "    return data"
   ]
  },
  {
   "cell_type": "code",
   "execution_count": 11,
   "metadata": {},
   "outputs": [],
   "source": [
    "def parse_strategy_tick(data):\n",
    "    data = data.assign(tick_timestamp = data[\"payload\"].str.extract(r'strategy tick:\\s?(\\d*)\\s', expand=False))\n",
    "    data = data.assign(balance = data[\"payload\"].str.extract(r'balance:\\s?(\\d*)\\s'))\n",
    "    data = data.assign(rounded_balance = data[\"balance\"].astype(float).div(1e18))\n",
    "    data = data.assign(open_to_node = data[\"payload\"].str.extract(r'open:\\s?([\\w\\,]*)\\s'))\n",
    "    data = data.assign(close_to_node = data[\"payload\"].str.extract(r'close:\\s?([\\w\\,]*)\\s?'))\n",
    "    data[\"tick_timestamp\"] =  pd.to_datetime(data[\"tick_timestamp\"].apply(pd.to_numeric), unit=\"ms\")\n",
    "    return data[[\"timestamp\", \"payload_timestamp\", \"tick_timestamp\", \"balance\", \"rounded_balance\", \"open_to_node\", \"close_to_node\"]]"
   ]
  },
  {
   "cell_type": "code",
   "execution_count": 12,
   "metadata": {},
   "outputs": [],
   "source": [
    "tick_logs = parse_strategy_tick(get_timestamp_payload(dir_logs + tick_file))"
   ]
  },
  {
   "cell_type": "code",
   "execution_count": 13,
   "metadata": {
    "scrolled": false
   },
   "outputs": [
    {
     "data": {
      "text/html": [
       "<div>\n",
       "<style scoped>\n",
       "    .dataframe tbody tr th:only-of-type {\n",
       "        vertical-align: middle;\n",
       "    }\n",
       "\n",
       "    .dataframe tbody tr th {\n",
       "        vertical-align: top;\n",
       "    }\n",
       "\n",
       "    .dataframe thead th {\n",
       "        text-align: right;\n",
       "    }\n",
       "</style>\n",
       "<table border=\"1\" class=\"dataframe\">\n",
       "  <thead>\n",
       "    <tr style=\"text-align: right;\">\n",
       "      <th></th>\n",
       "      <th>timestamp</th>\n",
       "      <th>payload_timestamp</th>\n",
       "      <th>tick_timestamp</th>\n",
       "      <th>balance</th>\n",
       "      <th>rounded_balance</th>\n",
       "      <th>open_to_node</th>\n",
       "      <th>close_to_node</th>\n",
       "    </tr>\n",
       "  </thead>\n",
       "  <tbody>\n",
       "    <tr>\n",
       "      <th>0</th>\n",
       "      <td>2021-10-09T10:20:43.456583458Z</td>\n",
       "      <td>2021-10-09T10:20:43.440Z</td>\n",
       "      <td>2021-10-09 10:20:43.440</td>\n",
       "      <td>100999999999999994000</td>\n",
       "      <td>101.0</td>\n",
       "      <td></td>\n",
       "      <td></td>\n",
       "    </tr>\n",
       "    <tr>\n",
       "      <th>1</th>\n",
       "      <td>2021-10-09T10:20:33.272554402Z</td>\n",
       "      <td>2021-10-09T10:20:33.255Z</td>\n",
       "      <td>2021-10-09 10:20:33.255</td>\n",
       "      <td>100999999999999994000</td>\n",
       "      <td>101.0</td>\n",
       "      <td></td>\n",
       "      <td></td>\n",
       "    </tr>\n",
       "    <tr>\n",
       "      <th>2</th>\n",
       "      <td>2021-10-09T10:20:23.181758667Z</td>\n",
       "      <td>2021-10-09T10:20:23.169Z</td>\n",
       "      <td>2021-10-09 10:20:23.169</td>\n",
       "      <td>100999999999999994000</td>\n",
       "      <td>101.0</td>\n",
       "      <td></td>\n",
       "      <td></td>\n",
       "    </tr>\n",
       "    <tr>\n",
       "      <th>3</th>\n",
       "      <td>2021-10-09T10:20:13.078857921Z</td>\n",
       "      <td>2021-10-09T10:20:13.074Z</td>\n",
       "      <td>2021-10-09 10:20:13.074</td>\n",
       "      <td>100999999999999994000</td>\n",
       "      <td>101.0</td>\n",
       "      <td></td>\n",
       "      <td></td>\n",
       "    </tr>\n",
       "    <tr>\n",
       "      <th>4</th>\n",
       "      <td>2021-10-09T10:19:41.807554045Z</td>\n",
       "      <td>2021-10-09T10:19:41.791Z</td>\n",
       "      <td>2021-10-09 10:19:41.791</td>\n",
       "      <td>100999999999999994000</td>\n",
       "      <td>101.0</td>\n",
       "      <td></td>\n",
       "      <td></td>\n",
       "    </tr>\n",
       "    <tr>\n",
       "      <th>...</th>\n",
       "      <td>...</td>\n",
       "      <td>...</td>\n",
       "      <td>...</td>\n",
       "      <td>...</td>\n",
       "      <td>...</td>\n",
       "      <td>...</td>\n",
       "      <td>...</td>\n",
       "    </tr>\n",
       "    <tr>\n",
       "      <th>8101</th>\n",
       "      <td>2021-10-08T11:16:05.401685712Z</td>\n",
       "      <td>2021-10-08T11:16:05.400Z</td>\n",
       "      <td>2021-10-08 11:16:05.400</td>\n",
       "      <td>100999999999999993000</td>\n",
       "      <td>101.0</td>\n",
       "      <td></td>\n",
       "      <td></td>\n",
       "    </tr>\n",
       "    <tr>\n",
       "      <th>8102</th>\n",
       "      <td>2021-10-07T16:11:18.420668286Z</td>\n",
       "      <td>2021-10-07T16:11:18.404Z</td>\n",
       "      <td>2021-10-07 16:11:18.404</td>\n",
       "      <td>100999999999999993000</td>\n",
       "      <td>101.0</td>\n",
       "      <td></td>\n",
       "      <td>16Uiu2HAmHnyJaC8whSRBXXk3ikPuH19g52ZgxvA3sUnpV...</td>\n",
       "    </tr>\n",
       "    <tr>\n",
       "      <th>8103</th>\n",
       "      <td>2021-10-07T16:10:24.141280277Z</td>\n",
       "      <td>2021-10-07T16:10:24.128Z</td>\n",
       "      <td>2021-10-07 16:10:24.128</td>\n",
       "      <td>100999999999999993000</td>\n",
       "      <td>101.0</td>\n",
       "      <td></td>\n",
       "      <td>16Uiu2HAmHnyJaC8whSRBXXk3ikPuH19g52ZgxvA3sUnpV...</td>\n",
       "    </tr>\n",
       "    <tr>\n",
       "      <th>8104</th>\n",
       "      <td>2021-10-07T16:09:30.870781784Z</td>\n",
       "      <td>2021-10-07T16:09:30.857Z</td>\n",
       "      <td>2021-10-07 16:09:30.857</td>\n",
       "      <td>100999999999999993000</td>\n",
       "      <td>101.0</td>\n",
       "      <td></td>\n",
       "      <td>16Uiu2HAmHnyJaC8whSRBXXk3ikPuH19g52ZgxvA3sUnpV...</td>\n",
       "    </tr>\n",
       "    <tr>\n",
       "      <th>8105</th>\n",
       "      <td>2021-10-07T16:08:34.993477294Z</td>\n",
       "      <td>2021-10-07T16:08:34.954Z</td>\n",
       "      <td>2021-10-07 16:08:34.954</td>\n",
       "      <td>100999999999999992000</td>\n",
       "      <td>101.0</td>\n",
       "      <td></td>\n",
       "      <td></td>\n",
       "    </tr>\n",
       "  </tbody>\n",
       "</table>\n",
       "<p>8106 rows × 7 columns</p>\n",
       "</div>"
      ],
      "text/plain": [
       "                           timestamp         payload_timestamp  \\\n",
       "0     2021-10-09T10:20:43.456583458Z  2021-10-09T10:20:43.440Z   \n",
       "1     2021-10-09T10:20:33.272554402Z  2021-10-09T10:20:33.255Z   \n",
       "2     2021-10-09T10:20:23.181758667Z  2021-10-09T10:20:23.169Z   \n",
       "3     2021-10-09T10:20:13.078857921Z  2021-10-09T10:20:13.074Z   \n",
       "4     2021-10-09T10:19:41.807554045Z  2021-10-09T10:19:41.791Z   \n",
       "...                              ...                       ...   \n",
       "8101  2021-10-08T11:16:05.401685712Z  2021-10-08T11:16:05.400Z   \n",
       "8102  2021-10-07T16:11:18.420668286Z  2021-10-07T16:11:18.404Z   \n",
       "8103  2021-10-07T16:10:24.141280277Z  2021-10-07T16:10:24.128Z   \n",
       "8104  2021-10-07T16:09:30.870781784Z  2021-10-07T16:09:30.857Z   \n",
       "8105  2021-10-07T16:08:34.993477294Z  2021-10-07T16:08:34.954Z   \n",
       "\n",
       "              tick_timestamp                balance  rounded_balance  \\\n",
       "0    2021-10-09 10:20:43.440  100999999999999994000            101.0   \n",
       "1    2021-10-09 10:20:33.255  100999999999999994000            101.0   \n",
       "2    2021-10-09 10:20:23.169  100999999999999994000            101.0   \n",
       "3    2021-10-09 10:20:13.074  100999999999999994000            101.0   \n",
       "4    2021-10-09 10:19:41.791  100999999999999994000            101.0   \n",
       "...                      ...                    ...              ...   \n",
       "8101 2021-10-08 11:16:05.400  100999999999999993000            101.0   \n",
       "8102 2021-10-07 16:11:18.404  100999999999999993000            101.0   \n",
       "8103 2021-10-07 16:10:24.128  100999999999999993000            101.0   \n",
       "8104 2021-10-07 16:09:30.857  100999999999999993000            101.0   \n",
       "8105 2021-10-07 16:08:34.954  100999999999999992000            101.0   \n",
       "\n",
       "     open_to_node                                      close_to_node  \n",
       "0                                                                     \n",
       "1                                                                     \n",
       "2                                                                     \n",
       "3                                                                     \n",
       "4                                                                     \n",
       "...           ...                                                ...  \n",
       "8101                                                                  \n",
       "8102               16Uiu2HAmHnyJaC8whSRBXXk3ikPuH19g52ZgxvA3sUnpV...  \n",
       "8103               16Uiu2HAmHnyJaC8whSRBXXk3ikPuH19g52ZgxvA3sUnpV...  \n",
       "8104               16Uiu2HAmHnyJaC8whSRBXXk3ikPuH19g52ZgxvA3sUnpV...  \n",
       "8105                                                                  \n",
       "\n",
       "[8106 rows x 7 columns]"
      ]
     },
     "execution_count": 13,
     "metadata": {},
     "output_type": "execute_result"
    }
   ],
   "source": [
    "tick_logs"
   ]
  },
  {
   "cell_type": "code",
   "execution_count": 14,
   "metadata": {},
   "outputs": [],
   "source": [
    "#reseting the \"tick_timestamp\" to ascending"
   ]
  },
  {
   "cell_type": "code",
   "execution_count": 15,
   "metadata": {
    "scrolled": true
   },
   "outputs": [],
   "source": [
    "tick_logs = tick_logs.sort_values(by='tick_timestamp', ascending=True, ignore_index = True)"
   ]
  },
  {
   "cell_type": "code",
   "execution_count": 131,
   "metadata": {},
   "outputs": [
    {
     "data": {
      "text/plain": [
       "<matplotlib.axes._subplots.AxesSubplot at 0x24291b16ef0>"
      ]
     },
     "execution_count": 131,
     "metadata": {},
     "output_type": "execute_result"
    },
    {
     "data": {
      "text/plain": [
       "<Figure size 432x288 with 0 Axes>"
      ]
     },
     "metadata": {},
     "output_type": "display_data"
    },
    {
     "data": {
      "image/png": "[encoded data removed]",
      "text/plain": [
       "<Figure size 432x288 with 1 Axes>"
      ]
     },
     "metadata": {
      "needs_background": "light"
     },
     "output_type": "display_data"
    }
   ],
   "source": [
    "plt.figure()\n",
    "tick_logs.plot(x=\"tick_timestamp\", y=\"rounded_balance\", kind=\"bar\")"
   ]
  },
  {
   "cell_type": "code",
   "execution_count": 16,
   "metadata": {},
   "outputs": [],
   "source": [
    "#values of the relevat attributes"
   ]
  },
  {
   "cell_type": "code",
   "execution_count": 17,
   "metadata": {},
   "outputs": [
    {
     "data": {
      "text/plain": [
       "100999999999999994000    8101\n",
       "100999999999999993000       4\n",
       "100999999999999992000       1\n",
       "Name: balance, dtype: int64"
      ]
     },
     "execution_count": 17,
     "metadata": {},
     "output_type": "execute_result"
    }
   ],
   "source": [
    "tick_logs['balance'].value_counts()"
   ]
  },
  {
   "cell_type": "code",
   "execution_count": 18,
   "metadata": {},
   "outputs": [
    {
     "data": {
      "text/plain": [
       "    8106\n",
       "Name: open_to_node, dtype: int64"
      ]
     },
     "execution_count": 18,
     "metadata": {},
     "output_type": "execute_result"
    }
   ],
   "source": [
    "tick_logs['open_to_node'].value_counts()"
   ]
  },
  {
   "cell_type": "code",
   "execution_count": 19,
   "metadata": {},
   "outputs": [
    {
     "data": {
      "text/plain": [
       "                                                         8103\n",
       "16Uiu2HAmHnyJaC8whSRBXXk3ikPuH19g52ZgxvA3sUnpViiepurP       3\n",
       "Name: close_to_node, dtype: int64"
      ]
     },
     "execution_count": 19,
     "metadata": {},
     "output_type": "execute_result"
    }
   ],
   "source": [
    "tick_logs['close_to_node'].value_counts()"
   ]
  },
  {
   "cell_type": "code",
   "execution_count": 20,
   "metadata": {},
   "outputs": [
    {
     "data": {
      "text/plain": [
       "timestamp                    object\n",
       "payload_timestamp            object\n",
       "tick_timestamp       datetime64[ns]\n",
       "balance                      object\n",
       "rounded_balance             float64\n",
       "open_to_node                 object\n",
       "close_to_node                object\n",
       "dtype: object"
      ]
     },
     "execution_count": 20,
     "metadata": {},
     "output_type": "execute_result"
    }
   ],
   "source": [
    "tick_logs.dtypes"
   ]
  },
  {
   "cell_type": "code",
   "execution_count": 21,
   "metadata": {},
   "outputs": [],
   "source": [
    "df = tick_logs"
   ]
  },
  {
   "cell_type": "code",
   "execution_count": 23,
   "metadata": {},
   "outputs": [],
   "source": [
    "df['balance_1'] = df['balance']"
   ]
  },
  {
   "cell_type": "code",
   "execution_count": 24,
   "metadata": {},
   "outputs": [],
   "source": [
    "# the balance conversion from onbject to int does'n work with row wise conversion or with astype! (It gives the following error: \"Python int too large to convert to C long\")\n",
    "# converting to float rounds the value (causing data loss)"
   ]
  },
  {
   "cell_type": "code",
   "execution_count": 25,
   "metadata": {},
   "outputs": [],
   "source": [
    "df['balance_1']  = df['balance_1'].apply(lambda x: int(x))"
   ]
  },
  {
   "cell_type": "code",
   "execution_count": 26,
   "metadata": {},
   "outputs": [],
   "source": [
    "import sys"
   ]
  },
  {
   "cell_type": "code",
   "execution_count": 27,
   "metadata": {},
   "outputs": [
    {
     "data": {
      "text/plain": [
       "9223372036854775807"
      ]
     },
     "execution_count": 27,
     "metadata": {},
     "output_type": "execute_result"
    }
   ],
   "source": [
    "sys.maxsize"
   ]
  },
  {
   "cell_type": "code",
   "execution_count": 28,
   "metadata": {},
   "outputs": [],
   "source": [
    "#calculating the balance change between each logs \"bal_diff\""
   ]
  },
  {
   "cell_type": "code",
   "execution_count": 29,
   "metadata": {
    "scrolled": true
   },
   "outputs": [],
   "source": [
    "df[\"bal_diff\"] = df['balance_1'].diff()"
   ]
  },
  {
   "cell_type": "code",
   "execution_count": 33,
   "metadata": {},
   "outputs": [
    {
     "data": {
      "text/html": [
       "<div>\n",
       "<style scoped>\n",
       "    .dataframe tbody tr th:only-of-type {\n",
       "        vertical-align: middle;\n",
       "    }\n",
       "\n",
       "    .dataframe tbody tr th {\n",
       "        vertical-align: top;\n",
       "    }\n",
       "\n",
       "    .dataframe thead th {\n",
       "        text-align: right;\n",
       "    }\n",
       "</style>\n",
       "<table border=\"1\" class=\"dataframe\">\n",
       "  <thead>\n",
       "    <tr style=\"text-align: right;\">\n",
       "      <th></th>\n",
       "      <th>timestamp</th>\n",
       "      <th>payload_timestamp</th>\n",
       "      <th>tick_timestamp</th>\n",
       "      <th>balance</th>\n",
       "      <th>rounded_balance</th>\n",
       "      <th>open_to_node</th>\n",
       "      <th>close_to_node</th>\n",
       "      <th>balance_1</th>\n",
       "      <th>bal_diff</th>\n",
       "    </tr>\n",
       "  </thead>\n",
       "  <tbody>\n",
       "    <tr>\n",
       "      <th>0</th>\n",
       "      <td>2021-10-07T16:08:34.993477294Z</td>\n",
       "      <td>2021-10-07T16:08:34.954Z</td>\n",
       "      <td>2021-10-07 16:08:34.954</td>\n",
       "      <td>100999999999999992000</td>\n",
       "      <td>101.0</td>\n",
       "      <td></td>\n",
       "      <td></td>\n",
       "      <td>100999999999999992000</td>\n",
       "      <td>NaN</td>\n",
       "    </tr>\n",
       "    <tr>\n",
       "      <th>1</th>\n",
       "      <td>2021-10-07T16:09:30.870781784Z</td>\n",
       "      <td>2021-10-07T16:09:30.857Z</td>\n",
       "      <td>2021-10-07 16:09:30.857</td>\n",
       "      <td>100999999999999993000</td>\n",
       "      <td>101.0</td>\n",
       "      <td></td>\n",
       "      <td>16Uiu2HAmHnyJaC8whSRBXXk3ikPuH19g52ZgxvA3sUnpV...</td>\n",
       "      <td>100999999999999993000</td>\n",
       "      <td>1000</td>\n",
       "    </tr>\n",
       "    <tr>\n",
       "      <th>2</th>\n",
       "      <td>2021-10-07T16:10:24.141280277Z</td>\n",
       "      <td>2021-10-07T16:10:24.128Z</td>\n",
       "      <td>2021-10-07 16:10:24.128</td>\n",
       "      <td>100999999999999993000</td>\n",
       "      <td>101.0</td>\n",
       "      <td></td>\n",
       "      <td>16Uiu2HAmHnyJaC8whSRBXXk3ikPuH19g52ZgxvA3sUnpV...</td>\n",
       "      <td>100999999999999993000</td>\n",
       "      <td>0</td>\n",
       "    </tr>\n",
       "    <tr>\n",
       "      <th>3</th>\n",
       "      <td>2021-10-07T16:11:18.420668286Z</td>\n",
       "      <td>2021-10-07T16:11:18.404Z</td>\n",
       "      <td>2021-10-07 16:11:18.404</td>\n",
       "      <td>100999999999999993000</td>\n",
       "      <td>101.0</td>\n",
       "      <td></td>\n",
       "      <td>16Uiu2HAmHnyJaC8whSRBXXk3ikPuH19g52ZgxvA3sUnpV...</td>\n",
       "      <td>100999999999999993000</td>\n",
       "      <td>0</td>\n",
       "    </tr>\n",
       "    <tr>\n",
       "      <th>4</th>\n",
       "      <td>2021-10-08T11:16:05.401685712Z</td>\n",
       "      <td>2021-10-08T11:16:05.400Z</td>\n",
       "      <td>2021-10-08 11:16:05.400</td>\n",
       "      <td>100999999999999993000</td>\n",
       "      <td>101.0</td>\n",
       "      <td></td>\n",
       "      <td></td>\n",
       "      <td>100999999999999993000</td>\n",
       "      <td>0</td>\n",
       "    </tr>\n",
       "    <tr>\n",
       "      <th>...</th>\n",
       "      <td>...</td>\n",
       "      <td>...</td>\n",
       "      <td>...</td>\n",
       "      <td>...</td>\n",
       "      <td>...</td>\n",
       "      <td>...</td>\n",
       "      <td>...</td>\n",
       "      <td>...</td>\n",
       "      <td>...</td>\n",
       "    </tr>\n",
       "    <tr>\n",
       "      <th>8101</th>\n",
       "      <td>2021-10-09T10:19:41.807554045Z</td>\n",
       "      <td>2021-10-09T10:19:41.791Z</td>\n",
       "      <td>2021-10-09 10:19:41.791</td>\n",
       "      <td>100999999999999994000</td>\n",
       "      <td>101.0</td>\n",
       "      <td></td>\n",
       "      <td></td>\n",
       "      <td>100999999999999994000</td>\n",
       "      <td>0</td>\n",
       "    </tr>\n",
       "    <tr>\n",
       "      <th>8102</th>\n",
       "      <td>2021-10-09T10:20:13.078857921Z</td>\n",
       "      <td>2021-10-09T10:20:13.074Z</td>\n",
       "      <td>2021-10-09 10:20:13.074</td>\n",
       "      <td>100999999999999994000</td>\n",
       "      <td>101.0</td>\n",
       "      <td></td>\n",
       "      <td></td>\n",
       "      <td>100999999999999994000</td>\n",
       "      <td>0</td>\n",
       "    </tr>\n",
       "    <tr>\n",
       "      <th>8103</th>\n",
       "      <td>2021-10-09T10:20:23.181758667Z</td>\n",
       "      <td>2021-10-09T10:20:23.169Z</td>\n",
       "      <td>2021-10-09 10:20:23.169</td>\n",
       "      <td>100999999999999994000</td>\n",
       "      <td>101.0</td>\n",
       "      <td></td>\n",
       "      <td></td>\n",
       "      <td>100999999999999994000</td>\n",
       "      <td>0</td>\n",
       "    </tr>\n",
       "    <tr>\n",
       "      <th>8104</th>\n",
       "      <td>2021-10-09T10:20:33.272554402Z</td>\n",
       "      <td>2021-10-09T10:20:33.255Z</td>\n",
       "      <td>2021-10-09 10:20:33.255</td>\n",
       "      <td>100999999999999994000</td>\n",
       "      <td>101.0</td>\n",
       "      <td></td>\n",
       "      <td></td>\n",
       "      <td>100999999999999994000</td>\n",
       "      <td>0</td>\n",
       "    </tr>\n",
       "    <tr>\n",
       "      <th>8105</th>\n",
       "      <td>2021-10-09T10:20:43.456583458Z</td>\n",
       "      <td>2021-10-09T10:20:43.440Z</td>\n",
       "      <td>2021-10-09 10:20:43.440</td>\n",
       "      <td>100999999999999994000</td>\n",
       "      <td>101.0</td>\n",
       "      <td></td>\n",
       "      <td></td>\n",
       "      <td>100999999999999994000</td>\n",
       "      <td>0</td>\n",
       "    </tr>\n",
       "  </tbody>\n",
       "</table>\n",
       "<p>8106 rows × 9 columns</p>\n",
       "</div>"
      ],
      "text/plain": [
       "                           timestamp         payload_timestamp  \\\n",
       "0     2021-10-07T16:08:34.993477294Z  2021-10-07T16:08:34.954Z   \n",
       "1     2021-10-07T16:09:30.870781784Z  2021-10-07T16:09:30.857Z   \n",
       "2     2021-10-07T16:10:24.141280277Z  2021-10-07T16:10:24.128Z   \n",
       "3     2021-10-07T16:11:18.420668286Z  2021-10-07T16:11:18.404Z   \n",
       "4     2021-10-08T11:16:05.401685712Z  2021-10-08T11:16:05.400Z   \n",
       "...                              ...                       ...   \n",
       "8101  2021-10-09T10:19:41.807554045Z  2021-10-09T10:19:41.791Z   \n",
       "8102  2021-10-09T10:20:13.078857921Z  2021-10-09T10:20:13.074Z   \n",
       "8103  2021-10-09T10:20:23.181758667Z  2021-10-09T10:20:23.169Z   \n",
       "8104  2021-10-09T10:20:33.272554402Z  2021-10-09T10:20:33.255Z   \n",
       "8105  2021-10-09T10:20:43.456583458Z  2021-10-09T10:20:43.440Z   \n",
       "\n",
       "              tick_timestamp                balance  rounded_balance  \\\n",
       "0    2021-10-07 16:08:34.954  100999999999999992000            101.0   \n",
       "1    2021-10-07 16:09:30.857  100999999999999993000            101.0   \n",
       "2    2021-10-07 16:10:24.128  100999999999999993000            101.0   \n",
       "3    2021-10-07 16:11:18.404  100999999999999993000            101.0   \n",
       "4    2021-10-08 11:16:05.400  100999999999999993000            101.0   \n",
       "...                      ...                    ...              ...   \n",
       "8101 2021-10-09 10:19:41.791  100999999999999994000            101.0   \n",
       "8102 2021-10-09 10:20:13.074  100999999999999994000            101.0   \n",
       "8103 2021-10-09 10:20:23.169  100999999999999994000            101.0   \n",
       "8104 2021-10-09 10:20:33.255  100999999999999994000            101.0   \n",
       "8105 2021-10-09 10:20:43.440  100999999999999994000            101.0   \n",
       "\n",
       "     open_to_node                                      close_to_node  \\\n",
       "0                                                                      \n",
       "1                  16Uiu2HAmHnyJaC8whSRBXXk3ikPuH19g52ZgxvA3sUnpV...   \n",
       "2                  16Uiu2HAmHnyJaC8whSRBXXk3ikPuH19g52ZgxvA3sUnpV...   \n",
       "3                  16Uiu2HAmHnyJaC8whSRBXXk3ikPuH19g52ZgxvA3sUnpV...   \n",
       "4                                                                      \n",
       "...           ...                                                ...   \n",
       "8101                                                                   \n",
       "8102                                                                   \n",
       "8103                                                                   \n",
       "8104                                                                   \n",
       "8105                                                                   \n",
       "\n",
       "                  balance_1 bal_diff  \n",
       "0     100999999999999992000      NaN  \n",
       "1     100999999999999993000     1000  \n",
       "2     100999999999999993000        0  \n",
       "3     100999999999999993000        0  \n",
       "4     100999999999999993000        0  \n",
       "...                     ...      ...  \n",
       "8101  100999999999999994000        0  \n",
       "8102  100999999999999994000        0  \n",
       "8103  100999999999999994000        0  \n",
       "8104  100999999999999994000        0  \n",
       "8105  100999999999999994000        0  \n",
       "\n",
       "[8106 rows x 9 columns]"
      ]
     },
     "execution_count": 33,
     "metadata": {},
     "output_type": "execute_result"
    }
   ],
   "source": [
    "df"
   ]
  },
  {
   "cell_type": "code",
   "execution_count": 34,
   "metadata": {
    "scrolled": false
   },
   "outputs": [
    {
     "data": {
      "text/html": [
       "<div>\n",
       "<style scoped>\n",
       "    .dataframe tbody tr th:only-of-type {\n",
       "        vertical-align: middle;\n",
       "    }\n",
       "\n",
       "    .dataframe tbody tr th {\n",
       "        vertical-align: top;\n",
       "    }\n",
       "\n",
       "    .dataframe thead th {\n",
       "        text-align: right;\n",
       "    }\n",
       "</style>\n",
       "<table border=\"1\" class=\"dataframe\">\n",
       "  <thead>\n",
       "    <tr style=\"text-align: right;\">\n",
       "      <th></th>\n",
       "      <th>rounded_balance</th>\n",
       "    </tr>\n",
       "  </thead>\n",
       "  <tbody>\n",
       "    <tr>\n",
       "      <th>count</th>\n",
       "      <td>8106.0</td>\n",
       "    </tr>\n",
       "    <tr>\n",
       "      <th>mean</th>\n",
       "      <td>101.0</td>\n",
       "    </tr>\n",
       "    <tr>\n",
       "      <th>std</th>\n",
       "      <td>0.0</td>\n",
       "    </tr>\n",
       "    <tr>\n",
       "      <th>min</th>\n",
       "      <td>101.0</td>\n",
       "    </tr>\n",
       "    <tr>\n",
       "      <th>25%</th>\n",
       "      <td>101.0</td>\n",
       "    </tr>\n",
       "    <tr>\n",
       "      <th>50%</th>\n",
       "      <td>101.0</td>\n",
       "    </tr>\n",
       "    <tr>\n",
       "      <th>75%</th>\n",
       "      <td>101.0</td>\n",
       "    </tr>\n",
       "    <tr>\n",
       "      <th>max</th>\n",
       "      <td>101.0</td>\n",
       "    </tr>\n",
       "  </tbody>\n",
       "</table>\n",
       "</div>"
      ],
      "text/plain": [
       "       rounded_balance\n",
       "count           8106.0\n",
       "mean             101.0\n",
       "std                0.0\n",
       "min              101.0\n",
       "25%              101.0\n",
       "50%              101.0\n",
       "75%              101.0\n",
       "max              101.0"
      ]
     },
     "execution_count": 34,
     "metadata": {},
     "output_type": "execute_result"
    }
   ],
   "source": [
    "df.describe()"
   ]
  },
  {
   "cell_type": "code",
   "execution_count": 35,
   "metadata": {
    "scrolled": true
   },
   "outputs": [
    {
     "data": {
      "text/plain": [
       "0       8103\n",
       "1000       2\n",
       "Name: bal_diff, dtype: int64"
      ]
     },
     "execution_count": 35,
     "metadata": {},
     "output_type": "execute_result"
    }
   ],
   "source": [
    "df['bal_diff'].value_counts()"
   ]
  },
  {
   "cell_type": "code",
   "execution_count": 36,
   "metadata": {},
   "outputs": [],
   "source": [
    "#filling up the missing values first with NaN and with 0s "
   ]
  },
  {
   "cell_type": "code",
   "execution_count": 37,
   "metadata": {
    "scrolled": false
   },
   "outputs": [],
   "source": [
    "df = df.replace(r'^\\s*$', np.nan, regex=True)"
   ]
  },
  {
   "cell_type": "code",
   "execution_count": 38,
   "metadata": {},
   "outputs": [],
   "source": [
    "#by default the first value of \"bal_diff\" is always a missing value - filling up with 0 can creat error! (if there is an actual change in the balance value)  "
   ]
  },
  {
   "cell_type": "code",
   "execution_count": 39,
   "metadata": {},
   "outputs": [],
   "source": [
    "df['bal_diff'] = df['bal_diff'].fillna(0)"
   ]
  },
  {
   "cell_type": "code",
   "execution_count": 40,
   "metadata": {},
   "outputs": [],
   "source": [
    "df['open_to_node'] = df['open_to_node'].fillna(0)"
   ]
  },
  {
   "cell_type": "code",
   "execution_count": 41,
   "metadata": {},
   "outputs": [],
   "source": [
    "df['close_to_node'] = df['close_to_node'].fillna(0)"
   ]
  },
  {
   "cell_type": "code",
   "execution_count": 42,
   "metadata": {},
   "outputs": [],
   "source": [
    "#\"activity\" shows if the given log shows any node activity (balance change, chanell open or close)"
   ]
  },
  {
   "cell_type": "code",
   "execution_count": 43,
   "metadata": {},
   "outputs": [],
   "source": [
    "df['activity'] = (df['bal_diff'] == 0) & (df['open_to_node'] == 0) & (df['close_to_node'] == 0)"
   ]
  },
  {
   "cell_type": "code",
   "execution_count": 130,
   "metadata": {},
   "outputs": [
    {
     "data": {
      "text/html": [
       "<div>\n",
       "<style scoped>\n",
       "    .dataframe tbody tr th:only-of-type {\n",
       "        vertical-align: middle;\n",
       "    }\n",
       "\n",
       "    .dataframe tbody tr th {\n",
       "        vertical-align: top;\n",
       "    }\n",
       "\n",
       "    .dataframe thead th {\n",
       "        text-align: right;\n",
       "    }\n",
       "</style>\n",
       "<table border=\"1\" class=\"dataframe\">\n",
       "  <thead>\n",
       "    <tr style=\"text-align: right;\">\n",
       "      <th></th>\n",
       "      <th>timestamp</th>\n",
       "      <th>payload_timestamp</th>\n",
       "      <th>tick_timestamp</th>\n",
       "      <th>balance</th>\n",
       "      <th>rounded_balance</th>\n",
       "      <th>open_to_node</th>\n",
       "      <th>close_to_node</th>\n",
       "      <th>balance_1</th>\n",
       "      <th>bal_diff</th>\n",
       "      <th>activity</th>\n",
       "    </tr>\n",
       "  </thead>\n",
       "  <tbody>\n",
       "    <tr>\n",
       "      <th>0</th>\n",
       "      <td>2021-10-07T16:08:34.993477294Z</td>\n",
       "      <td>2021-10-07T16:08:34.954Z</td>\n",
       "      <td>2021-10-07 16:08:34.954</td>\n",
       "      <td>100999999999999992000</td>\n",
       "      <td>101.0</td>\n",
       "      <td>0.0</td>\n",
       "      <td>0</td>\n",
       "      <td>100999999999999992000</td>\n",
       "      <td>0.0</td>\n",
       "      <td>True</td>\n",
       "    </tr>\n",
       "    <tr>\n",
       "      <th>1</th>\n",
       "      <td>2021-10-07T16:09:30.870781784Z</td>\n",
       "      <td>2021-10-07T16:09:30.857Z</td>\n",
       "      <td>2021-10-07 16:09:30.857</td>\n",
       "      <td>100999999999999993000</td>\n",
       "      <td>101.0</td>\n",
       "      <td>0.0</td>\n",
       "      <td>16Uiu2HAmHnyJaC8whSRBXXk3ikPuH19g52ZgxvA3sUnpV...</td>\n",
       "      <td>100999999999999993000</td>\n",
       "      <td>1000.0</td>\n",
       "      <td>False</td>\n",
       "    </tr>\n",
       "    <tr>\n",
       "      <th>2</th>\n",
       "      <td>2021-10-07T16:10:24.141280277Z</td>\n",
       "      <td>2021-10-07T16:10:24.128Z</td>\n",
       "      <td>2021-10-07 16:10:24.128</td>\n",
       "      <td>100999999999999993000</td>\n",
       "      <td>101.0</td>\n",
       "      <td>0.0</td>\n",
       "      <td>16Uiu2HAmHnyJaC8whSRBXXk3ikPuH19g52ZgxvA3sUnpV...</td>\n",
       "      <td>100999999999999993000</td>\n",
       "      <td>0.0</td>\n",
       "      <td>False</td>\n",
       "    </tr>\n",
       "    <tr>\n",
       "      <th>3</th>\n",
       "      <td>2021-10-07T16:11:18.420668286Z</td>\n",
       "      <td>2021-10-07T16:11:18.404Z</td>\n",
       "      <td>2021-10-07 16:11:18.404</td>\n",
       "      <td>100999999999999993000</td>\n",
       "      <td>101.0</td>\n",
       "      <td>0.0</td>\n",
       "      <td>16Uiu2HAmHnyJaC8whSRBXXk3ikPuH19g52ZgxvA3sUnpV...</td>\n",
       "      <td>100999999999999993000</td>\n",
       "      <td>0.0</td>\n",
       "      <td>False</td>\n",
       "    </tr>\n",
       "    <tr>\n",
       "      <th>4</th>\n",
       "      <td>2021-10-08T11:16:05.401685712Z</td>\n",
       "      <td>2021-10-08T11:16:05.400Z</td>\n",
       "      <td>2021-10-08 11:16:05.400</td>\n",
       "      <td>100999999999999993000</td>\n",
       "      <td>101.0</td>\n",
       "      <td>0.0</td>\n",
       "      <td>0</td>\n",
       "      <td>100999999999999993000</td>\n",
       "      <td>0.0</td>\n",
       "      <td>True</td>\n",
       "    </tr>\n",
       "    <tr>\n",
       "      <th>5</th>\n",
       "      <td>2021-10-08T11:16:55.959680021Z</td>\n",
       "      <td>2021-10-08T11:16:55.941Z</td>\n",
       "      <td>2021-10-08 11:16:55.941</td>\n",
       "      <td>100999999999999994000</td>\n",
       "      <td>101.0</td>\n",
       "      <td>0.0</td>\n",
       "      <td>0</td>\n",
       "      <td>100999999999999994000</td>\n",
       "      <td>1000.0</td>\n",
       "      <td>False</td>\n",
       "    </tr>\n",
       "    <tr>\n",
       "      <th>6</th>\n",
       "      <td>2021-10-08T11:17:06.041522758Z</td>\n",
       "      <td>2021-10-08T11:17:06.022Z</td>\n",
       "      <td>2021-10-08 11:17:06.022</td>\n",
       "      <td>100999999999999994000</td>\n",
       "      <td>101.0</td>\n",
       "      <td>0.0</td>\n",
       "      <td>0</td>\n",
       "      <td>100999999999999994000</td>\n",
       "      <td>0.0</td>\n",
       "      <td>True</td>\n",
       "    </tr>\n",
       "    <tr>\n",
       "      <th>7</th>\n",
       "      <td>2021-10-08T11:17:16.101186626Z</td>\n",
       "      <td>2021-10-08T11:17:16.090Z</td>\n",
       "      <td>2021-10-08 11:17:16.090</td>\n",
       "      <td>100999999999999994000</td>\n",
       "      <td>101.0</td>\n",
       "      <td>0.0</td>\n",
       "      <td>0</td>\n",
       "      <td>100999999999999994000</td>\n",
       "      <td>0.0</td>\n",
       "      <td>True</td>\n",
       "    </tr>\n",
       "    <tr>\n",
       "      <th>8</th>\n",
       "      <td>2021-10-08T11:17:26.681058943Z</td>\n",
       "      <td>2021-10-08T11:17:26.657Z</td>\n",
       "      <td>2021-10-08 11:17:26.657</td>\n",
       "      <td>100999999999999994000</td>\n",
       "      <td>101.0</td>\n",
       "      <td>0.0</td>\n",
       "      <td>0</td>\n",
       "      <td>100999999999999994000</td>\n",
       "      <td>0.0</td>\n",
       "      <td>True</td>\n",
       "    </tr>\n",
       "    <tr>\n",
       "      <th>9</th>\n",
       "      <td>2021-10-08T11:17:36.745732921Z</td>\n",
       "      <td>2021-10-08T11:17:36.732Z</td>\n",
       "      <td>2021-10-08 11:17:36.732</td>\n",
       "      <td>100999999999999994000</td>\n",
       "      <td>101.0</td>\n",
       "      <td>0.0</td>\n",
       "      <td>0</td>\n",
       "      <td>100999999999999994000</td>\n",
       "      <td>0.0</td>\n",
       "      <td>True</td>\n",
       "    </tr>\n",
       "    <tr>\n",
       "      <th>10</th>\n",
       "      <td>2021-10-08T11:17:46.786763568Z</td>\n",
       "      <td>2021-10-08T11:17:46.772Z</td>\n",
       "      <td>2021-10-08 11:17:46.772</td>\n",
       "      <td>100999999999999994000</td>\n",
       "      <td>101.0</td>\n",
       "      <td>0.0</td>\n",
       "      <td>0</td>\n",
       "      <td>100999999999999994000</td>\n",
       "      <td>0.0</td>\n",
       "      <td>True</td>\n",
       "    </tr>\n",
       "    <tr>\n",
       "      <th>11</th>\n",
       "      <td>2021-10-08T11:17:57.136850822Z</td>\n",
       "      <td>2021-10-08T11:17:57.084Z</td>\n",
       "      <td>2021-10-08 11:17:57.083</td>\n",
       "      <td>100999999999999994000</td>\n",
       "      <td>101.0</td>\n",
       "      <td>0.0</td>\n",
       "      <td>0</td>\n",
       "      <td>100999999999999994000</td>\n",
       "      <td>0.0</td>\n",
       "      <td>True</td>\n",
       "    </tr>\n",
       "    <tr>\n",
       "      <th>12</th>\n",
       "      <td>2021-10-08T11:18:07.138818264Z</td>\n",
       "      <td>2021-10-08T11:18:07.125Z</td>\n",
       "      <td>2021-10-08 11:18:07.125</td>\n",
       "      <td>100999999999999994000</td>\n",
       "      <td>101.0</td>\n",
       "      <td>0.0</td>\n",
       "      <td>0</td>\n",
       "      <td>100999999999999994000</td>\n",
       "      <td>0.0</td>\n",
       "      <td>True</td>\n",
       "    </tr>\n",
       "    <tr>\n",
       "      <th>13</th>\n",
       "      <td>2021-10-08T11:18:17.174212244Z</td>\n",
       "      <td>2021-10-08T11:18:17.161Z</td>\n",
       "      <td>2021-10-08 11:18:17.161</td>\n",
       "      <td>100999999999999994000</td>\n",
       "      <td>101.0</td>\n",
       "      <td>0.0</td>\n",
       "      <td>0</td>\n",
       "      <td>100999999999999994000</td>\n",
       "      <td>0.0</td>\n",
       "      <td>True</td>\n",
       "    </tr>\n",
       "    <tr>\n",
       "      <th>14</th>\n",
       "      <td>2021-10-08T11:18:27.313837511Z</td>\n",
       "      <td>2021-10-08T11:18:27.300Z</td>\n",
       "      <td>2021-10-08 11:18:27.300</td>\n",
       "      <td>100999999999999994000</td>\n",
       "      <td>101.0</td>\n",
       "      <td>0.0</td>\n",
       "      <td>0</td>\n",
       "      <td>100999999999999994000</td>\n",
       "      <td>0.0</td>\n",
       "      <td>True</td>\n",
       "    </tr>\n",
       "    <tr>\n",
       "      <th>15</th>\n",
       "      <td>2021-10-08T11:18:37.359333566Z</td>\n",
       "      <td>2021-10-08T11:18:37.345Z</td>\n",
       "      <td>2021-10-08 11:18:37.345</td>\n",
       "      <td>100999999999999994000</td>\n",
       "      <td>101.0</td>\n",
       "      <td>0.0</td>\n",
       "      <td>0</td>\n",
       "      <td>100999999999999994000</td>\n",
       "      <td>0.0</td>\n",
       "      <td>True</td>\n",
       "    </tr>\n",
       "    <tr>\n",
       "      <th>16</th>\n",
       "      <td>2021-10-08T11:18:47.396135230Z</td>\n",
       "      <td>2021-10-08T11:18:47.383Z</td>\n",
       "      <td>2021-10-08 11:18:47.383</td>\n",
       "      <td>100999999999999994000</td>\n",
       "      <td>101.0</td>\n",
       "      <td>0.0</td>\n",
       "      <td>0</td>\n",
       "      <td>100999999999999994000</td>\n",
       "      <td>0.0</td>\n",
       "      <td>True</td>\n",
       "    </tr>\n",
       "    <tr>\n",
       "      <th>17</th>\n",
       "      <td>2021-10-08T11:18:57.680015968Z</td>\n",
       "      <td>2021-10-08T11:18:57.664Z</td>\n",
       "      <td>2021-10-08 11:18:57.664</td>\n",
       "      <td>100999999999999994000</td>\n",
       "      <td>101.0</td>\n",
       "      <td>0.0</td>\n",
       "      <td>0</td>\n",
       "      <td>100999999999999994000</td>\n",
       "      <td>0.0</td>\n",
       "      <td>True</td>\n",
       "    </tr>\n",
       "    <tr>\n",
       "      <th>18</th>\n",
       "      <td>2021-10-08T11:19:07.711693889Z</td>\n",
       "      <td>2021-10-08T11:19:07.698Z</td>\n",
       "      <td>2021-10-08 11:19:07.698</td>\n",
       "      <td>100999999999999994000</td>\n",
       "      <td>101.0</td>\n",
       "      <td>0.0</td>\n",
       "      <td>0</td>\n",
       "      <td>100999999999999994000</td>\n",
       "      <td>0.0</td>\n",
       "      <td>True</td>\n",
       "    </tr>\n",
       "    <tr>\n",
       "      <th>19</th>\n",
       "      <td>2021-10-08T11:19:17.744102334Z</td>\n",
       "      <td>2021-10-08T11:19:17.731Z</td>\n",
       "      <td>2021-10-08 11:19:17.731</td>\n",
       "      <td>100999999999999994000</td>\n",
       "      <td>101.0</td>\n",
       "      <td>0.0</td>\n",
       "      <td>0</td>\n",
       "      <td>100999999999999994000</td>\n",
       "      <td>0.0</td>\n",
       "      <td>True</td>\n",
       "    </tr>\n",
       "    <tr>\n",
       "      <th>20</th>\n",
       "      <td>2021-10-08T11:19:28.283310199Z</td>\n",
       "      <td>2021-10-08T11:19:28.269Z</td>\n",
       "      <td>2021-10-08 11:19:28.269</td>\n",
       "      <td>100999999999999994000</td>\n",
       "      <td>101.0</td>\n",
       "      <td>0.0</td>\n",
       "      <td>0</td>\n",
       "      <td>100999999999999994000</td>\n",
       "      <td>0.0</td>\n",
       "      <td>True</td>\n",
       "    </tr>\n",
       "    <tr>\n",
       "      <th>21</th>\n",
       "      <td>2021-10-08T11:19:38.315229833Z</td>\n",
       "      <td>2021-10-08T11:19:38.302Z</td>\n",
       "      <td>2021-10-08 11:19:38.302</td>\n",
       "      <td>100999999999999994000</td>\n",
       "      <td>101.0</td>\n",
       "      <td>0.0</td>\n",
       "      <td>0</td>\n",
       "      <td>100999999999999994000</td>\n",
       "      <td>0.0</td>\n",
       "      <td>True</td>\n",
       "    </tr>\n",
       "    <tr>\n",
       "      <th>22</th>\n",
       "      <td>2021-10-08T11:19:48.355602607Z</td>\n",
       "      <td>2021-10-08T11:19:48.341Z</td>\n",
       "      <td>2021-10-08 11:19:48.341</td>\n",
       "      <td>100999999999999994000</td>\n",
       "      <td>101.0</td>\n",
       "      <td>0.0</td>\n",
       "      <td>0</td>\n",
       "      <td>100999999999999994000</td>\n",
       "      <td>0.0</td>\n",
       "      <td>True</td>\n",
       "    </tr>\n",
       "    <tr>\n",
       "      <th>23</th>\n",
       "      <td>2021-10-08T11:19:58.619536304Z</td>\n",
       "      <td>2021-10-08T11:19:58.606Z</td>\n",
       "      <td>2021-10-08 11:19:58.606</td>\n",
       "      <td>100999999999999994000</td>\n",
       "      <td>101.0</td>\n",
       "      <td>0.0</td>\n",
       "      <td>0</td>\n",
       "      <td>100999999999999994000</td>\n",
       "      <td>0.0</td>\n",
       "      <td>True</td>\n",
       "    </tr>\n",
       "    <tr>\n",
       "      <th>24</th>\n",
       "      <td>2021-10-08T11:20:08.660424095Z</td>\n",
       "      <td>2021-10-08T11:20:08.646Z</td>\n",
       "      <td>2021-10-08 11:20:08.646</td>\n",
       "      <td>100999999999999994000</td>\n",
       "      <td>101.0</td>\n",
       "      <td>0.0</td>\n",
       "      <td>0</td>\n",
       "      <td>100999999999999994000</td>\n",
       "      <td>0.0</td>\n",
       "      <td>True</td>\n",
       "    </tr>\n",
       "    <tr>\n",
       "      <th>25</th>\n",
       "      <td>2021-10-08T11:20:18.690884196Z</td>\n",
       "      <td>2021-10-08T11:20:18.687Z</td>\n",
       "      <td>2021-10-08 11:20:18.687</td>\n",
       "      <td>100999999999999994000</td>\n",
       "      <td>101.0</td>\n",
       "      <td>0.0</td>\n",
       "      <td>0</td>\n",
       "      <td>100999999999999994000</td>\n",
       "      <td>0.0</td>\n",
       "      <td>True</td>\n",
       "    </tr>\n",
       "    <tr>\n",
       "      <th>26</th>\n",
       "      <td>2021-10-08T11:20:29.241100538Z</td>\n",
       "      <td>2021-10-08T11:20:29.228Z</td>\n",
       "      <td>2021-10-08 11:20:29.228</td>\n",
       "      <td>100999999999999994000</td>\n",
       "      <td>101.0</td>\n",
       "      <td>0.0</td>\n",
       "      <td>0</td>\n",
       "      <td>100999999999999994000</td>\n",
       "      <td>0.0</td>\n",
       "      <td>True</td>\n",
       "    </tr>\n",
       "    <tr>\n",
       "      <th>27</th>\n",
       "      <td>2021-10-08T11:20:39.287111613Z</td>\n",
       "      <td>2021-10-08T11:20:39.267Z</td>\n",
       "      <td>2021-10-08 11:20:39.266</td>\n",
       "      <td>100999999999999994000</td>\n",
       "      <td>101.0</td>\n",
       "      <td>0.0</td>\n",
       "      <td>0</td>\n",
       "      <td>100999999999999994000</td>\n",
       "      <td>0.0</td>\n",
       "      <td>True</td>\n",
       "    </tr>\n",
       "    <tr>\n",
       "      <th>28</th>\n",
       "      <td>2021-10-08T11:20:49.309933533Z</td>\n",
       "      <td>2021-10-08T11:20:49.297Z</td>\n",
       "      <td>2021-10-08 11:20:49.297</td>\n",
       "      <td>100999999999999994000</td>\n",
       "      <td>101.0</td>\n",
       "      <td>0.0</td>\n",
       "      <td>0</td>\n",
       "      <td>100999999999999994000</td>\n",
       "      <td>0.0</td>\n",
       "      <td>True</td>\n",
       "    </tr>\n",
       "    <tr>\n",
       "      <th>29</th>\n",
       "      <td>2021-10-08T11:20:59.555234895Z</td>\n",
       "      <td>2021-10-08T11:20:59.519Z</td>\n",
       "      <td>2021-10-08 11:20:59.519</td>\n",
       "      <td>100999999999999994000</td>\n",
       "      <td>101.0</td>\n",
       "      <td>0.0</td>\n",
       "      <td>0</td>\n",
       "      <td>100999999999999994000</td>\n",
       "      <td>0.0</td>\n",
       "      <td>True</td>\n",
       "    </tr>\n",
       "    <tr>\n",
       "      <th>30</th>\n",
       "      <td>2021-10-08T11:21:09.570479103Z</td>\n",
       "      <td>2021-10-08T11:21:09.555Z</td>\n",
       "      <td>2021-10-08 11:21:09.555</td>\n",
       "      <td>100999999999999994000</td>\n",
       "      <td>101.0</td>\n",
       "      <td>0.0</td>\n",
       "      <td>0</td>\n",
       "      <td>100999999999999994000</td>\n",
       "      <td>0.0</td>\n",
       "      <td>True</td>\n",
       "    </tr>\n",
       "    <tr>\n",
       "      <th>31</th>\n",
       "      <td>2021-10-08T11:21:19.605131793Z</td>\n",
       "      <td>2021-10-08T11:21:19.592Z</td>\n",
       "      <td>2021-10-08 11:21:19.592</td>\n",
       "      <td>100999999999999994000</td>\n",
       "      <td>101.0</td>\n",
       "      <td>0.0</td>\n",
       "      <td>0</td>\n",
       "      <td>100999999999999994000</td>\n",
       "      <td>0.0</td>\n",
       "      <td>True</td>\n",
       "    </tr>\n",
       "    <tr>\n",
       "      <th>32</th>\n",
       "      <td>2021-10-08T11:21:29.839570485Z</td>\n",
       "      <td>2021-10-08T11:21:29.829Z</td>\n",
       "      <td>2021-10-08 11:21:29.829</td>\n",
       "      <td>100999999999999994000</td>\n",
       "      <td>101.0</td>\n",
       "      <td>0.0</td>\n",
       "      <td>0</td>\n",
       "      <td>100999999999999994000</td>\n",
       "      <td>0.0</td>\n",
       "      <td>True</td>\n",
       "    </tr>\n",
       "    <tr>\n",
       "      <th>33</th>\n",
       "      <td>2021-10-08T11:21:39.877408074Z</td>\n",
       "      <td>2021-10-08T11:21:39.863Z</td>\n",
       "      <td>2021-10-08 11:21:39.863</td>\n",
       "      <td>100999999999999994000</td>\n",
       "      <td>101.0</td>\n",
       "      <td>0.0</td>\n",
       "      <td>0</td>\n",
       "      <td>100999999999999994000</td>\n",
       "      <td>0.0</td>\n",
       "      <td>True</td>\n",
       "    </tr>\n",
       "    <tr>\n",
       "      <th>34</th>\n",
       "      <td>2021-10-08T11:21:49.914888904Z</td>\n",
       "      <td>2021-10-08T11:21:49.901Z</td>\n",
       "      <td>2021-10-08 11:21:49.901</td>\n",
       "      <td>100999999999999994000</td>\n",
       "      <td>101.0</td>\n",
       "      <td>0.0</td>\n",
       "      <td>0</td>\n",
       "      <td>100999999999999994000</td>\n",
       "      <td>0.0</td>\n",
       "      <td>True</td>\n",
       "    </tr>\n",
       "    <tr>\n",
       "      <th>35</th>\n",
       "      <td>2021-10-08T11:22:00.412575529Z</td>\n",
       "      <td>2021-10-08T11:22:00.396Z</td>\n",
       "      <td>2021-10-08 11:22:00.396</td>\n",
       "      <td>100999999999999994000</td>\n",
       "      <td>101.0</td>\n",
       "      <td>0.0</td>\n",
       "      <td>0</td>\n",
       "      <td>100999999999999994000</td>\n",
       "      <td>0.0</td>\n",
       "      <td>True</td>\n",
       "    </tr>\n",
       "    <tr>\n",
       "      <th>36</th>\n",
       "      <td>2021-10-08T11:22:10.449311250Z</td>\n",
       "      <td>2021-10-08T11:22:10.435Z</td>\n",
       "      <td>2021-10-08 11:22:10.435</td>\n",
       "      <td>100999999999999994000</td>\n",
       "      <td>101.0</td>\n",
       "      <td>0.0</td>\n",
       "      <td>0</td>\n",
       "      <td>100999999999999994000</td>\n",
       "      <td>0.0</td>\n",
       "      <td>True</td>\n",
       "    </tr>\n",
       "    <tr>\n",
       "      <th>37</th>\n",
       "      <td>2021-10-08T11:22:20.489239994Z</td>\n",
       "      <td>2021-10-08T11:22:20.479Z</td>\n",
       "      <td>2021-10-08 11:22:20.478</td>\n",
       "      <td>100999999999999994000</td>\n",
       "      <td>101.0</td>\n",
       "      <td>0.0</td>\n",
       "      <td>0</td>\n",
       "      <td>100999999999999994000</td>\n",
       "      <td>0.0</td>\n",
       "      <td>True</td>\n",
       "    </tr>\n",
       "    <tr>\n",
       "      <th>38</th>\n",
       "      <td>2021-10-08T11:22:30.754309678Z</td>\n",
       "      <td>2021-10-08T11:22:30.740Z</td>\n",
       "      <td>2021-10-08 11:22:30.740</td>\n",
       "      <td>100999999999999994000</td>\n",
       "      <td>101.0</td>\n",
       "      <td>0.0</td>\n",
       "      <td>0</td>\n",
       "      <td>100999999999999994000</td>\n",
       "      <td>0.0</td>\n",
       "      <td>True</td>\n",
       "    </tr>\n",
       "    <tr>\n",
       "      <th>39</th>\n",
       "      <td>2021-10-08T11:22:40.786178532Z</td>\n",
       "      <td>2021-10-08T11:22:40.777Z</td>\n",
       "      <td>2021-10-08 11:22:40.777</td>\n",
       "      <td>100999999999999994000</td>\n",
       "      <td>101.0</td>\n",
       "      <td>0.0</td>\n",
       "      <td>0</td>\n",
       "      <td>100999999999999994000</td>\n",
       "      <td>0.0</td>\n",
       "      <td>True</td>\n",
       "    </tr>\n",
       "  </tbody>\n",
       "</table>\n",
       "</div>"
      ],
      "text/plain": [
       "                         timestamp         payload_timestamp  \\\n",
       "0   2021-10-07T16:08:34.993477294Z  2021-10-07T16:08:34.954Z   \n",
       "1   2021-10-07T16:09:30.870781784Z  2021-10-07T16:09:30.857Z   \n",
       "2   2021-10-07T16:10:24.141280277Z  2021-10-07T16:10:24.128Z   \n",
       "3   2021-10-07T16:11:18.420668286Z  2021-10-07T16:11:18.404Z   \n",
       "4   2021-10-08T11:16:05.401685712Z  2021-10-08T11:16:05.400Z   \n",
       "5   2021-10-08T11:16:55.959680021Z  2021-10-08T11:16:55.941Z   \n",
       "6   2021-10-08T11:17:06.041522758Z  2021-10-08T11:17:06.022Z   \n",
       "7   2021-10-08T11:17:16.101186626Z  2021-10-08T11:17:16.090Z   \n",
       "8   2021-10-08T11:17:26.681058943Z  2021-10-08T11:17:26.657Z   \n",
       "9   2021-10-08T11:17:36.745732921Z  2021-10-08T11:17:36.732Z   \n",
       "10  2021-10-08T11:17:46.786763568Z  2021-10-08T11:17:46.772Z   \n",
       "11  2021-10-08T11:17:57.136850822Z  2021-10-08T11:17:57.084Z   \n",
       "12  2021-10-08T11:18:07.138818264Z  2021-10-08T11:18:07.125Z   \n",
       "13  2021-10-08T11:18:17.174212244Z  2021-10-08T11:18:17.161Z   \n",
       "14  2021-10-08T11:18:27.313837511Z  2021-10-08T11:18:27.300Z   \n",
       "15  2021-10-08T11:18:37.359333566Z  2021-10-08T11:18:37.345Z   \n",
       "16  2021-10-08T11:18:47.396135230Z  2021-10-08T11:18:47.383Z   \n",
       "17  2021-10-08T11:18:57.680015968Z  2021-10-08T11:18:57.664Z   \n",
       "18  2021-10-08T11:19:07.711693889Z  2021-10-08T11:19:07.698Z   \n",
       "19  2021-10-08T11:19:17.744102334Z  2021-10-08T11:19:17.731Z   \n",
       "20  2021-10-08T11:19:28.283310199Z  2021-10-08T11:19:28.269Z   \n",
       "21  2021-10-08T11:19:38.315229833Z  2021-10-08T11:19:38.302Z   \n",
       "22  2021-10-08T11:19:48.355602607Z  2021-10-08T11:19:48.341Z   \n",
       "23  2021-10-08T11:19:58.619536304Z  2021-10-08T11:19:58.606Z   \n",
       "24  2021-10-08T11:20:08.660424095Z  2021-10-08T11:20:08.646Z   \n",
       "25  2021-10-08T11:20:18.690884196Z  2021-10-08T11:20:18.687Z   \n",
       "26  2021-10-08T11:20:29.241100538Z  2021-10-08T11:20:29.228Z   \n",
       "27  2021-10-08T11:20:39.287111613Z  2021-10-08T11:20:39.267Z   \n",
       "28  2021-10-08T11:20:49.309933533Z  2021-10-08T11:20:49.297Z   \n",
       "29  2021-10-08T11:20:59.555234895Z  2021-10-08T11:20:59.519Z   \n",
       "30  2021-10-08T11:21:09.570479103Z  2021-10-08T11:21:09.555Z   \n",
       "31  2021-10-08T11:21:19.605131793Z  2021-10-08T11:21:19.592Z   \n",
       "32  2021-10-08T11:21:29.839570485Z  2021-10-08T11:21:29.829Z   \n",
       "33  2021-10-08T11:21:39.877408074Z  2021-10-08T11:21:39.863Z   \n",
       "34  2021-10-08T11:21:49.914888904Z  2021-10-08T11:21:49.901Z   \n",
       "35  2021-10-08T11:22:00.412575529Z  2021-10-08T11:22:00.396Z   \n",
       "36  2021-10-08T11:22:10.449311250Z  2021-10-08T11:22:10.435Z   \n",
       "37  2021-10-08T11:22:20.489239994Z  2021-10-08T11:22:20.479Z   \n",
       "38  2021-10-08T11:22:30.754309678Z  2021-10-08T11:22:30.740Z   \n",
       "39  2021-10-08T11:22:40.786178532Z  2021-10-08T11:22:40.777Z   \n",
       "\n",
       "            tick_timestamp                balance  rounded_balance  \\\n",
       "0  2021-10-07 16:08:34.954  100999999999999992000            101.0   \n",
       "1  2021-10-07 16:09:30.857  100999999999999993000            101.0   \n",
       "2  2021-10-07 16:10:24.128  100999999999999993000            101.0   \n",
       "3  2021-10-07 16:11:18.404  100999999999999993000            101.0   \n",
       "4  2021-10-08 11:16:05.400  100999999999999993000            101.0   \n",
       "5  2021-10-08 11:16:55.941  100999999999999994000            101.0   \n",
       "6  2021-10-08 11:17:06.022  100999999999999994000            101.0   \n",
       "7  2021-10-08 11:17:16.090  100999999999999994000            101.0   \n",
       "8  2021-10-08 11:17:26.657  100999999999999994000            101.0   \n",
       "9  2021-10-08 11:17:36.732  100999999999999994000            101.0   \n",
       "10 2021-10-08 11:17:46.772  100999999999999994000            101.0   \n",
       "11 2021-10-08 11:17:57.083  100999999999999994000            101.0   \n",
       "12 2021-10-08 11:18:07.125  100999999999999994000            101.0   \n",
       "13 2021-10-08 11:18:17.161  100999999999999994000            101.0   \n",
       "14 2021-10-08 11:18:27.300  100999999999999994000            101.0   \n",
       "15 2021-10-08 11:18:37.345  100999999999999994000            101.0   \n",
       "16 2021-10-08 11:18:47.383  100999999999999994000            101.0   \n",
       "17 2021-10-08 11:18:57.664  100999999999999994000            101.0   \n",
       "18 2021-10-08 11:19:07.698  100999999999999994000            101.0   \n",
       "19 2021-10-08 11:19:17.731  100999999999999994000            101.0   \n",
       "20 2021-10-08 11:19:28.269  100999999999999994000            101.0   \n",
       "21 2021-10-08 11:19:38.302  100999999999999994000            101.0   \n",
       "22 2021-10-08 11:19:48.341  100999999999999994000            101.0   \n",
       "23 2021-10-08 11:19:58.606  100999999999999994000            101.0   \n",
       "24 2021-10-08 11:20:08.646  100999999999999994000            101.0   \n",
       "25 2021-10-08 11:20:18.687  100999999999999994000            101.0   \n",
       "26 2021-10-08 11:20:29.228  100999999999999994000            101.0   \n",
       "27 2021-10-08 11:20:39.266  100999999999999994000            101.0   \n",
       "28 2021-10-08 11:20:49.297  100999999999999994000            101.0   \n",
       "29 2021-10-08 11:20:59.519  100999999999999994000            101.0   \n",
       "30 2021-10-08 11:21:09.555  100999999999999994000            101.0   \n",
       "31 2021-10-08 11:21:19.592  100999999999999994000            101.0   \n",
       "32 2021-10-08 11:21:29.829  100999999999999994000            101.0   \n",
       "33 2021-10-08 11:21:39.863  100999999999999994000            101.0   \n",
       "34 2021-10-08 11:21:49.901  100999999999999994000            101.0   \n",
       "35 2021-10-08 11:22:00.396  100999999999999994000            101.0   \n",
       "36 2021-10-08 11:22:10.435  100999999999999994000            101.0   \n",
       "37 2021-10-08 11:22:20.478  100999999999999994000            101.0   \n",
       "38 2021-10-08 11:22:30.740  100999999999999994000            101.0   \n",
       "39 2021-10-08 11:22:40.777  100999999999999994000            101.0   \n",
       "\n",
       "    open_to_node                                      close_to_node  \\\n",
       "0            0.0                                                  0   \n",
       "1            0.0  16Uiu2HAmHnyJaC8whSRBXXk3ikPuH19g52ZgxvA3sUnpV...   \n",
       "2            0.0  16Uiu2HAmHnyJaC8whSRBXXk3ikPuH19g52ZgxvA3sUnpV...   \n",
       "3            0.0  16Uiu2HAmHnyJaC8whSRBXXk3ikPuH19g52ZgxvA3sUnpV...   \n",
       "4            0.0                                                  0   \n",
       "5            0.0                                                  0   \n",
       "6            0.0                                                  0   \n",
       "7            0.0                                                  0   \n",
       "8            0.0                                                  0   \n",
       "9            0.0                                                  0   \n",
       "10           0.0                                                  0   \n",
       "11           0.0                                                  0   \n",
       "12           0.0                                                  0   \n",
       "13           0.0                                                  0   \n",
       "14           0.0                                                  0   \n",
       "15           0.0                                                  0   \n",
       "16           0.0                                                  0   \n",
       "17           0.0                                                  0   \n",
       "18           0.0                                                  0   \n",
       "19           0.0                                                  0   \n",
       "20           0.0                                                  0   \n",
       "21           0.0                                                  0   \n",
       "22           0.0                                                  0   \n",
       "23           0.0                                                  0   \n",
       "24           0.0                                                  0   \n",
       "25           0.0                                                  0   \n",
       "26           0.0                                                  0   \n",
       "27           0.0                                                  0   \n",
       "28           0.0                                                  0   \n",
       "29           0.0                                                  0   \n",
       "30           0.0                                                  0   \n",
       "31           0.0                                                  0   \n",
       "32           0.0                                                  0   \n",
       "33           0.0                                                  0   \n",
       "34           0.0                                                  0   \n",
       "35           0.0                                                  0   \n",
       "36           0.0                                                  0   \n",
       "37           0.0                                                  0   \n",
       "38           0.0                                                  0   \n",
       "39           0.0                                                  0   \n",
       "\n",
       "                balance_1  bal_diff  activity  \n",
       "0   100999999999999992000       0.0      True  \n",
       "1   100999999999999993000    1000.0     False  \n",
       "2   100999999999999993000       0.0     False  \n",
       "3   100999999999999993000       0.0     False  \n",
       "4   100999999999999993000       0.0      True  \n",
       "5   100999999999999994000    1000.0     False  \n",
       "6   100999999999999994000       0.0      True  \n",
       "7   100999999999999994000       0.0      True  \n",
       "8   100999999999999994000       0.0      True  \n",
       "9   100999999999999994000       0.0      True  \n",
       "10  100999999999999994000       0.0      True  \n",
       "11  100999999999999994000       0.0      True  \n",
       "12  100999999999999994000       0.0      True  \n",
       "13  100999999999999994000       0.0      True  \n",
       "14  100999999999999994000       0.0      True  \n",
       "15  100999999999999994000       0.0      True  \n",
       "16  100999999999999994000       0.0      True  \n",
       "17  100999999999999994000       0.0      True  \n",
       "18  100999999999999994000       0.0      True  \n",
       "19  100999999999999994000       0.0      True  \n",
       "20  100999999999999994000       0.0      True  \n",
       "21  100999999999999994000       0.0      True  \n",
       "22  100999999999999994000       0.0      True  \n",
       "23  100999999999999994000       0.0      True  \n",
       "24  100999999999999994000       0.0      True  \n",
       "25  100999999999999994000       0.0      True  \n",
       "26  100999999999999994000       0.0      True  \n",
       "27  100999999999999994000       0.0      True  \n",
       "28  100999999999999994000       0.0      True  \n",
       "29  100999999999999994000       0.0      True  \n",
       "30  100999999999999994000       0.0      True  \n",
       "31  100999999999999994000       0.0      True  \n",
       "32  100999999999999994000       0.0      True  \n",
       "33  100999999999999994000       0.0      True  \n",
       "34  100999999999999994000       0.0      True  \n",
       "35  100999999999999994000       0.0      True  \n",
       "36  100999999999999994000       0.0      True  \n",
       "37  100999999999999994000       0.0      True  \n",
       "38  100999999999999994000       0.0      True  \n",
       "39  100999999999999994000       0.0      True  "
      ]
     },
     "execution_count": 130,
     "metadata": {},
     "output_type": "execute_result"
    }
   ],
   "source": [
    "df.head(40)"
   ]
  },
  {
   "cell_type": "code",
   "execution_count": 127,
   "metadata": {
    "scrolled": true
   },
   "outputs": [
    {
     "data": {
      "text/plain": [
       "<matplotlib.axes._subplots.AxesSubplot at 0x24294a13908>"
      ]
     },
     "execution_count": 127,
     "metadata": {},
     "output_type": "execute_result"
    },
    {
     "data": {
      "image/png": "[encoded data removed]",
      "text/plain": [
       "<Figure size 432x288 with 1 Axes>"
      ]
     },
     "metadata": {
      "needs_background": "light"
     },
     "output_type": "display_data"
    }
   ],
   "source": [
    "df.plot(x=\"tick_timestamp\", y=\"bal_diff\", kind=\"bar\", color= \"b\")"
   ]
  },
  {
   "cell_type": "code",
   "execution_count": 46,
   "metadata": {},
   "outputs": [],
   "source": [
    "#creating subfiles from the logs, which contain some activity "
   ]
  },
  {
   "cell_type": "code",
   "execution_count": 47,
   "metadata": {
    "scrolled": true
   },
   "outputs": [
    {
     "data": {
      "text/plain": [
       "Int64Index([   0,    4,    6,    7,    8,    9,   10,   11,   12,   13,\n",
       "            ...\n",
       "            8096, 8097, 8098, 8099, 8100, 8101, 8102, 8103, 8104, 8105],\n",
       "           dtype='int64', length=8102)"
      ]
     },
     "execution_count": 47,
     "metadata": {},
     "output_type": "execute_result"
    }
   ],
   "source": [
    "act = df[df['activity'] == True].index\n",
    "act"
   ]
  },
  {
   "cell_type": "code",
   "execution_count": 129,
   "metadata": {
    "scrolled": false
   },
   "outputs": [
    {
     "data": {
      "text/html": [
       "<div>\n",
       "<style scoped>\n",
       "    .dataframe tbody tr th:only-of-type {\n",
       "        vertical-align: middle;\n",
       "    }\n",
       "\n",
       "    .dataframe tbody tr th {\n",
       "        vertical-align: top;\n",
       "    }\n",
       "\n",
       "    .dataframe thead th {\n",
       "        text-align: right;\n",
       "    }\n",
       "</style>\n",
       "<table border=\"1\" class=\"dataframe\">\n",
       "  <thead>\n",
       "    <tr style=\"text-align: right;\">\n",
       "      <th></th>\n",
       "      <th>timestamp</th>\n",
       "      <th>payload_timestamp</th>\n",
       "      <th>tick_timestamp</th>\n",
       "      <th>balance</th>\n",
       "      <th>rounded_balance</th>\n",
       "      <th>open_to_node</th>\n",
       "      <th>close_to_node</th>\n",
       "      <th>balance_1</th>\n",
       "      <th>bal_diff</th>\n",
       "      <th>activity</th>\n",
       "    </tr>\n",
       "  </thead>\n",
       "  <tbody>\n",
       "    <tr>\n",
       "      <th>0</th>\n",
       "      <td>2021-10-07T16:09:30.870781784Z</td>\n",
       "      <td>2021-10-07T16:09:30.857Z</td>\n",
       "      <td>2021-10-07 16:09:30.857</td>\n",
       "      <td>100999999999999993000</td>\n",
       "      <td>101.0</td>\n",
       "      <td>0.0</td>\n",
       "      <td>16Uiu2HAmHnyJaC8whSRBXXk3ikPuH19g52ZgxvA3sUnpV...</td>\n",
       "      <td>100999999999999993000</td>\n",
       "      <td>1000.0</td>\n",
       "      <td>False</td>\n",
       "    </tr>\n",
       "    <tr>\n",
       "      <th>1</th>\n",
       "      <td>2021-10-07T16:10:24.141280277Z</td>\n",
       "      <td>2021-10-07T16:10:24.128Z</td>\n",
       "      <td>2021-10-07 16:10:24.128</td>\n",
       "      <td>100999999999999993000</td>\n",
       "      <td>101.0</td>\n",
       "      <td>0.0</td>\n",
       "      <td>16Uiu2HAmHnyJaC8whSRBXXk3ikPuH19g52ZgxvA3sUnpV...</td>\n",
       "      <td>100999999999999993000</td>\n",
       "      <td>0.0</td>\n",
       "      <td>False</td>\n",
       "    </tr>\n",
       "    <tr>\n",
       "      <th>2</th>\n",
       "      <td>2021-10-07T16:11:18.420668286Z</td>\n",
       "      <td>2021-10-07T16:11:18.404Z</td>\n",
       "      <td>2021-10-07 16:11:18.404</td>\n",
       "      <td>100999999999999993000</td>\n",
       "      <td>101.0</td>\n",
       "      <td>0.0</td>\n",
       "      <td>16Uiu2HAmHnyJaC8whSRBXXk3ikPuH19g52ZgxvA3sUnpV...</td>\n",
       "      <td>100999999999999993000</td>\n",
       "      <td>0.0</td>\n",
       "      <td>False</td>\n",
       "    </tr>\n",
       "    <tr>\n",
       "      <th>3</th>\n",
       "      <td>2021-10-08T11:16:55.959680021Z</td>\n",
       "      <td>2021-10-08T11:16:55.941Z</td>\n",
       "      <td>2021-10-08 11:16:55.941</td>\n",
       "      <td>100999999999999994000</td>\n",
       "      <td>101.0</td>\n",
       "      <td>0.0</td>\n",
       "      <td>0</td>\n",
       "      <td>100999999999999994000</td>\n",
       "      <td>1000.0</td>\n",
       "      <td>False</td>\n",
       "    </tr>\n",
       "  </tbody>\n",
       "</table>\n",
       "</div>"
      ],
      "text/plain": [
       "                        timestamp         payload_timestamp  \\\n",
       "0  2021-10-07T16:09:30.870781784Z  2021-10-07T16:09:30.857Z   \n",
       "1  2021-10-07T16:10:24.141280277Z  2021-10-07T16:10:24.128Z   \n",
       "2  2021-10-07T16:11:18.420668286Z  2021-10-07T16:11:18.404Z   \n",
       "3  2021-10-08T11:16:55.959680021Z  2021-10-08T11:16:55.941Z   \n",
       "\n",
       "           tick_timestamp                balance  rounded_balance  \\\n",
       "0 2021-10-07 16:09:30.857  100999999999999993000            101.0   \n",
       "1 2021-10-07 16:10:24.128  100999999999999993000            101.0   \n",
       "2 2021-10-07 16:11:18.404  100999999999999993000            101.0   \n",
       "3 2021-10-08 11:16:55.941  100999999999999994000            101.0   \n",
       "\n",
       "   open_to_node                                      close_to_node  \\\n",
       "0           0.0  16Uiu2HAmHnyJaC8whSRBXXk3ikPuH19g52ZgxvA3sUnpV...   \n",
       "1           0.0  16Uiu2HAmHnyJaC8whSRBXXk3ikPuH19g52ZgxvA3sUnpV...   \n",
       "2           0.0  16Uiu2HAmHnyJaC8whSRBXXk3ikPuH19g52ZgxvA3sUnpV...   \n",
       "3           0.0                                                  0   \n",
       "\n",
       "               balance_1  bal_diff  activity  \n",
       "0  100999999999999993000    1000.0     False  \n",
       "1  100999999999999993000       0.0     False  \n",
       "2  100999999999999993000       0.0     False  \n",
       "3  100999999999999994000    1000.0     False  "
      ]
     },
     "execution_count": 129,
     "metadata": {},
     "output_type": "execute_result"
    }
   ],
   "source": [
    "df_act = (df.drop(act)).reset_index(drop=True)\n",
    "df_act"
   ]
  },
  {
   "cell_type": "code",
   "execution_count": 49,
   "metadata": {
    "scrolled": false
   },
   "outputs": [
    {
     "data": {
      "text/plain": [
       "<matplotlib.axes._subplots.AxesSubplot at 0x24291b9a5c0>"
      ]
     },
     "execution_count": 49,
     "metadata": {},
     "output_type": "execute_result"
    },
    {
     "data": {
      "image/png": "[encoded data removed]",
      "text/plain": [
       "<Figure size 432x288 with 1 Axes>"
      ]
     },
     "metadata": {
      "needs_background": "light"
     },
     "output_type": "display_data"
    }
   ],
   "source": [
    "df_act.plot(x=\"tick_timestamp\", y=\"bal_diff\", kind=\"bar\", color= \"b\")"
   ]
  },
  {
   "cell_type": "code",
   "execution_count": 124,
   "metadata": {},
   "outputs": [],
   "source": [
    "a=df_act[\"tick_timestamp\"]\n",
    "b=df_act[\"rounded_balance\"]\n",
    "c=df_act[\"bal_diff\"]"
   ]
  },
  {
   "cell_type": "code",
   "execution_count": 50,
   "metadata": {
    "scrolled": true
   },
   "outputs": [
    {
     "ename": "TypeError",
     "evalue": "no numeric data to plot",
     "output_type": "error",
     "traceback": [
      "\u001b[1;31m---------------------------------------------------------------------------\u001b[0m",
      "\u001b[1;31mTypeError\u001b[0m                                 Traceback (most recent call last)",
      "\u001b[1;32m~\\AppData\\Local\\Temp/ipykernel_22672/1905166775.py\u001b[0m in \u001b[0;36m<module>\u001b[1;34m\u001b[0m\n\u001b[1;32m----> 1\u001b[1;33m \u001b[0mdf_act\u001b[0m\u001b[1;33m.\u001b[0m\u001b[0mplot\u001b[0m\u001b[1;33m(\u001b[0m\u001b[0mx\u001b[0m\u001b[1;33m=\u001b[0m\u001b[1;34m\"tick_timestamp\"\u001b[0m\u001b[1;33m,\u001b[0m \u001b[0my\u001b[0m\u001b[1;33m=\u001b[0m\u001b[1;34m\"balance_1\"\u001b[0m\u001b[1;33m,\u001b[0m \u001b[0mkind\u001b[0m\u001b[1;33m=\u001b[0m\u001b[1;34m\"bar\"\u001b[0m\u001b[1;33m,\u001b[0m \u001b[0mcolor\u001b[0m\u001b[1;33m=\u001b[0m \u001b[1;34m\"b\"\u001b[0m\u001b[1;33m)\u001b[0m\u001b[1;33m\u001b[0m\u001b[1;33m\u001b[0m\u001b[0m\n\u001b[0m",
      "\u001b[1;32m~\\Anaconda3\\lib\\site-packages\\pandas\\plotting\\_core.py\u001b[0m in \u001b[0;36m__call__\u001b[1;34m(self, *args, **kwargs)\u001b[0m\n\u001b[0;32m    947\u001b[0m                     \u001b[0mdata\u001b[0m\u001b[1;33m.\u001b[0m\u001b[0mcolumns\u001b[0m \u001b[1;33m=\u001b[0m \u001b[0mlabel_name\u001b[0m\u001b[1;33m\u001b[0m\u001b[1;33m\u001b[0m\u001b[0m\n\u001b[0;32m    948\u001b[0m \u001b[1;33m\u001b[0m\u001b[0m\n\u001b[1;32m--> 949\u001b[1;33m         \u001b[1;32mreturn\u001b[0m \u001b[0mplot_backend\u001b[0m\u001b[1;33m.\u001b[0m\u001b[0mplot\u001b[0m\u001b[1;33m(\u001b[0m\u001b[0mdata\u001b[0m\u001b[1;33m,\u001b[0m \u001b[0mkind\u001b[0m\u001b[1;33m=\u001b[0m\u001b[0mkind\u001b[0m\u001b[1;33m,\u001b[0m \u001b[1;33m**\u001b[0m\u001b[0mkwargs\u001b[0m\u001b[1;33m)\u001b[0m\u001b[1;33m\u001b[0m\u001b[1;33m\u001b[0m\u001b[0m\n\u001b[0m\u001b[0;32m    950\u001b[0m \u001b[1;33m\u001b[0m\u001b[0m\n\u001b[0;32m    951\u001b[0m     \u001b[0m__call__\u001b[0m\u001b[1;33m.\u001b[0m\u001b[0m__doc__\u001b[0m \u001b[1;33m=\u001b[0m \u001b[0m__doc__\u001b[0m\u001b[1;33m\u001b[0m\u001b[1;33m\u001b[0m\u001b[0m\n",
      "\u001b[1;32m~\\Anaconda3\\lib\\site-packages\\pandas\\plotting\\_matplotlib\\__init__.py\u001b[0m in \u001b[0;36mplot\u001b[1;34m(data, kind, **kwargs)\u001b[0m\n\u001b[0;32m     59\u001b[0m             \u001b[0mkwargs\u001b[0m\u001b[1;33m[\u001b[0m\u001b[1;34m\"ax\"\u001b[0m\u001b[1;33m]\u001b[0m \u001b[1;33m=\u001b[0m \u001b[0mgetattr\u001b[0m\u001b[1;33m(\u001b[0m\u001b[0max\u001b[0m\u001b[1;33m,\u001b[0m \u001b[1;34m\"left_ax\"\u001b[0m\u001b[1;33m,\u001b[0m \u001b[0max\u001b[0m\u001b[1;33m)\u001b[0m\u001b[1;33m\u001b[0m\u001b[1;33m\u001b[0m\u001b[0m\n\u001b[0;32m     60\u001b[0m     \u001b[0mplot_obj\u001b[0m \u001b[1;33m=\u001b[0m \u001b[0mPLOT_CLASSES\u001b[0m\u001b[1;33m[\u001b[0m\u001b[0mkind\u001b[0m\u001b[1;33m]\u001b[0m\u001b[1;33m(\u001b[0m\u001b[0mdata\u001b[0m\u001b[1;33m,\u001b[0m \u001b[1;33m**\u001b[0m\u001b[0mkwargs\u001b[0m\u001b[1;33m)\u001b[0m\u001b[1;33m\u001b[0m\u001b[1;33m\u001b[0m\u001b[0m\n\u001b[1;32m---> 61\u001b[1;33m     \u001b[0mplot_obj\u001b[0m\u001b[1;33m.\u001b[0m\u001b[0mgenerate\u001b[0m\u001b[1;33m(\u001b[0m\u001b[1;33m)\u001b[0m\u001b[1;33m\u001b[0m\u001b[1;33m\u001b[0m\u001b[0m\n\u001b[0m\u001b[0;32m     62\u001b[0m     \u001b[0mplot_obj\u001b[0m\u001b[1;33m.\u001b[0m\u001b[0mdraw\u001b[0m\u001b[1;33m(\u001b[0m\u001b[1;33m)\u001b[0m\u001b[1;33m\u001b[0m\u001b[1;33m\u001b[0m\u001b[0m\n\u001b[0;32m     63\u001b[0m     \u001b[1;32mreturn\u001b[0m \u001b[0mplot_obj\u001b[0m\u001b[1;33m.\u001b[0m\u001b[0mresult\u001b[0m\u001b[1;33m\u001b[0m\u001b[1;33m\u001b[0m\u001b[0m\n",
      "\u001b[1;32m~\\Anaconda3\\lib\\site-packages\\pandas\\plotting\\_matplotlib\\core.py\u001b[0m in \u001b[0;36mgenerate\u001b[1;34m(self)\u001b[0m\n\u001b[0;32m    267\u001b[0m     \u001b[1;32mdef\u001b[0m \u001b[0mgenerate\u001b[0m\u001b[1;33m(\u001b[0m\u001b[0mself\u001b[0m\u001b[1;33m)\u001b[0m\u001b[1;33m:\u001b[0m\u001b[1;33m\u001b[0m\u001b[1;33m\u001b[0m\u001b[0m\n\u001b[0;32m    268\u001b[0m         \u001b[0mself\u001b[0m\u001b[1;33m.\u001b[0m\u001b[0m_args_adjust\u001b[0m\u001b[1;33m(\u001b[0m\u001b[1;33m)\u001b[0m\u001b[1;33m\u001b[0m\u001b[1;33m\u001b[0m\u001b[0m\n\u001b[1;32m--> 269\u001b[1;33m         \u001b[0mself\u001b[0m\u001b[1;33m.\u001b[0m\u001b[0m_compute_plot_data\u001b[0m\u001b[1;33m(\u001b[0m\u001b[1;33m)\u001b[0m\u001b[1;33m\u001b[0m\u001b[1;33m\u001b[0m\u001b[0m\n\u001b[0m\u001b[0;32m    270\u001b[0m         \u001b[0mself\u001b[0m\u001b[1;33m.\u001b[0m\u001b[0m_setup_subplots\u001b[0m\u001b[1;33m(\u001b[0m\u001b[1;33m)\u001b[0m\u001b[1;33m\u001b[0m\u001b[1;33m\u001b[0m\u001b[0m\n\u001b[0;32m    271\u001b[0m         \u001b[0mself\u001b[0m\u001b[1;33m.\u001b[0m\u001b[0m_make_plot\u001b[0m\u001b[1;33m(\u001b[0m\u001b[1;33m)\u001b[0m\u001b[1;33m\u001b[0m\u001b[1;33m\u001b[0m\u001b[0m\n",
      "\u001b[1;32m~\\Anaconda3\\lib\\site-packages\\pandas\\plotting\\_matplotlib\\core.py\u001b[0m in \u001b[0;36m_compute_plot_data\u001b[1;34m(self)\u001b[0m\n\u001b[0;32m    416\u001b[0m         \u001b[1;31m# no non-numeric frames or series allowed\u001b[0m\u001b[1;33m\u001b[0m\u001b[1;33m\u001b[0m\u001b[1;33m\u001b[0m\u001b[0m\n\u001b[0;32m    417\u001b[0m         \u001b[1;32mif\u001b[0m \u001b[0mis_empty\u001b[0m\u001b[1;33m:\u001b[0m\u001b[1;33m\u001b[0m\u001b[1;33m\u001b[0m\u001b[0m\n\u001b[1;32m--> 418\u001b[1;33m             \u001b[1;32mraise\u001b[0m \u001b[0mTypeError\u001b[0m\u001b[1;33m(\u001b[0m\u001b[1;34m\"no numeric data to plot\"\u001b[0m\u001b[1;33m)\u001b[0m\u001b[1;33m\u001b[0m\u001b[1;33m\u001b[0m\u001b[0m\n\u001b[0m\u001b[0;32m    419\u001b[0m \u001b[1;33m\u001b[0m\u001b[0m\n\u001b[0;32m    420\u001b[0m         \u001b[1;31m# GH25587: cast ExtensionArray of pandas (IntegerArray, etc.) to\u001b[0m\u001b[1;33m\u001b[0m\u001b[1;33m\u001b[0m\u001b[1;33m\u001b[0m\u001b[0m\n",
      "\u001b[1;31mTypeError\u001b[0m: no numeric data to plot"
     ]
    }
   ],
   "source": [
    "df_act.plot(x=\"tick_timestamp\", y=\"balance_1\", kind=\"bar\", color= \"b\")"
   ]
  },
  {
   "cell_type": "code",
   "execution_count": 51,
   "metadata": {
    "scrolled": true
   },
   "outputs": [
    {
     "data": {
      "text/plain": [
       "<matplotlib.axes._subplots.AxesSubplot at 0x242926bc0b8>"
      ]
     },
     "execution_count": 51,
     "metadata": {},
     "output_type": "execute_result"
    },
    {
     "data": {
      "image/png": "[encoded data removed]",
      "text/plain": [
       "<Figure size 432x288 with 1 Axes>"
      ]
     },
     "metadata": {
      "needs_background": "light"
     },
     "output_type": "display_data"
    }
   ],
   "source": [
    "df_act.plot(x=\"tick_timestamp\", y=\"rounded_balance\", kind=\"bar\", color= \"b\")"
   ]
  },
  {
   "cell_type": "code",
   "execution_count": 108,
   "metadata": {},
   "outputs": [],
   "source": [
    "import matplotlib.dates as md\n",
    "import dateutil"
   ]
  },
  {
   "cell_type": "code",
   "execution_count": 52,
   "metadata": {},
   "outputs": [],
   "source": [
    "#for the given database a solution for \"balance\" problem is slicing digit wise \"_balance\" and \"balance_\""
   ]
  },
  {
   "cell_type": "code",
   "execution_count": 78,
   "metadata": {},
   "outputs": [],
   "source": [
    "df_act['_balance'] = df_act.balance.apply(lambda x: x[:3])"
   ]
  },
  {
   "cell_type": "code",
   "execution_count": 92,
   "metadata": {},
   "outputs": [],
   "source": [
    "df_act['balance_'] = df_act.balance.apply(lambda x: x[-18::])"
   ]
  },
  {
   "cell_type": "code",
   "execution_count": 93,
   "metadata": {
    "scrolled": false
   },
   "outputs": [
    {
     "data": {
      "text/html": [
       "<div>\n",
       "<style scoped>\n",
       "    .dataframe tbody tr th:only-of-type {\n",
       "        vertical-align: middle;\n",
       "    }\n",
       "\n",
       "    .dataframe tbody tr th {\n",
       "        vertical-align: top;\n",
       "    }\n",
       "\n",
       "    .dataframe thead th {\n",
       "        text-align: right;\n",
       "    }\n",
       "</style>\n",
       "<table border=\"1\" class=\"dataframe\">\n",
       "  <thead>\n",
       "    <tr style=\"text-align: right;\">\n",
       "      <th></th>\n",
       "      <th>timestamp</th>\n",
       "      <th>payload_timestamp</th>\n",
       "      <th>tick_timestamp</th>\n",
       "      <th>balance</th>\n",
       "      <th>rounded_balance</th>\n",
       "      <th>open_to_node</th>\n",
       "      <th>close_to_node</th>\n",
       "      <th>balance_1</th>\n",
       "      <th>bal_diff</th>\n",
       "      <th>activity</th>\n",
       "      <th>_balance</th>\n",
       "      <th>balance_</th>\n",
       "      <th>balance_sl</th>\n",
       "      <th>div</th>\n",
       "      <th>digits</th>\n",
       "    </tr>\n",
       "  </thead>\n",
       "  <tbody>\n",
       "    <tr>\n",
       "      <th>0</th>\n",
       "      <td>2021-10-07T16:09:30.870781784Z</td>\n",
       "      <td>2021-10-07T16:09:30.857Z</td>\n",
       "      <td>2021-10-07 16:09:30.857</td>\n",
       "      <td>100999999999999993000</td>\n",
       "      <td>101.0</td>\n",
       "      <td>0.0</td>\n",
       "      <td>16Uiu2HAmHnyJaC8whSRBXXk3ikPuH19g52ZgxvA3sUnpV...</td>\n",
       "      <td>100999999999999993000</td>\n",
       "      <td>1000.0</td>\n",
       "      <td>False</td>\n",
       "      <td>100</td>\n",
       "      <td>999999999999993000</td>\n",
       "      <td>1.000000e+18</td>\n",
       "      <td>2</td>\n",
       "      <td>21</td>\n",
       "    </tr>\n",
       "    <tr>\n",
       "      <th>1</th>\n",
       "      <td>2021-10-07T16:10:24.141280277Z</td>\n",
       "      <td>2021-10-07T16:10:24.128Z</td>\n",
       "      <td>2021-10-07 16:10:24.128</td>\n",
       "      <td>100999999999999993000</td>\n",
       "      <td>101.0</td>\n",
       "      <td>0.0</td>\n",
       "      <td>16Uiu2HAmHnyJaC8whSRBXXk3ikPuH19g52ZgxvA3sUnpV...</td>\n",
       "      <td>100999999999999993000</td>\n",
       "      <td>0.0</td>\n",
       "      <td>False</td>\n",
       "      <td>100</td>\n",
       "      <td>999999999999993000</td>\n",
       "      <td>1.000000e+18</td>\n",
       "      <td>2</td>\n",
       "      <td>21</td>\n",
       "    </tr>\n",
       "    <tr>\n",
       "      <th>2</th>\n",
       "      <td>2021-10-07T16:11:18.420668286Z</td>\n",
       "      <td>2021-10-07T16:11:18.404Z</td>\n",
       "      <td>2021-10-07 16:11:18.404</td>\n",
       "      <td>100999999999999993000</td>\n",
       "      <td>101.0</td>\n",
       "      <td>0.0</td>\n",
       "      <td>16Uiu2HAmHnyJaC8whSRBXXk3ikPuH19g52ZgxvA3sUnpV...</td>\n",
       "      <td>100999999999999993000</td>\n",
       "      <td>0.0</td>\n",
       "      <td>False</td>\n",
       "      <td>100</td>\n",
       "      <td>999999999999993000</td>\n",
       "      <td>1.000000e+18</td>\n",
       "      <td>2</td>\n",
       "      <td>21</td>\n",
       "    </tr>\n",
       "    <tr>\n",
       "      <th>3</th>\n",
       "      <td>2021-10-08T11:16:55.959680021Z</td>\n",
       "      <td>2021-10-08T11:16:55.941Z</td>\n",
       "      <td>2021-10-08 11:16:55.941</td>\n",
       "      <td>100999999999999994000</td>\n",
       "      <td>101.0</td>\n",
       "      <td>0.0</td>\n",
       "      <td>0</td>\n",
       "      <td>100999999999999994000</td>\n",
       "      <td>1000.0</td>\n",
       "      <td>False</td>\n",
       "      <td>100</td>\n",
       "      <td>999999999999994000</td>\n",
       "      <td>1.000000e+18</td>\n",
       "      <td>2</td>\n",
       "      <td>21</td>\n",
       "    </tr>\n",
       "  </tbody>\n",
       "</table>\n",
       "</div>"
      ],
      "text/plain": [
       "                        timestamp         payload_timestamp  \\\n",
       "0  2021-10-07T16:09:30.870781784Z  2021-10-07T16:09:30.857Z   \n",
       "1  2021-10-07T16:10:24.141280277Z  2021-10-07T16:10:24.128Z   \n",
       "2  2021-10-07T16:11:18.420668286Z  2021-10-07T16:11:18.404Z   \n",
       "3  2021-10-08T11:16:55.959680021Z  2021-10-08T11:16:55.941Z   \n",
       "\n",
       "           tick_timestamp                balance  rounded_balance  \\\n",
       "0 2021-10-07 16:09:30.857  100999999999999993000            101.0   \n",
       "1 2021-10-07 16:10:24.128  100999999999999993000            101.0   \n",
       "2 2021-10-07 16:11:18.404  100999999999999993000            101.0   \n",
       "3 2021-10-08 11:16:55.941  100999999999999994000            101.0   \n",
       "\n",
       "   open_to_node                                      close_to_node  \\\n",
       "0           0.0  16Uiu2HAmHnyJaC8whSRBXXk3ikPuH19g52ZgxvA3sUnpV...   \n",
       "1           0.0  16Uiu2HAmHnyJaC8whSRBXXk3ikPuH19g52ZgxvA3sUnpV...   \n",
       "2           0.0  16Uiu2HAmHnyJaC8whSRBXXk3ikPuH19g52ZgxvA3sUnpV...   \n",
       "3           0.0                                                  0   \n",
       "\n",
       "               balance_1  bal_diff  activity _balance            balance_  \\\n",
       "0  100999999999999993000    1000.0     False      100  999999999999993000   \n",
       "1  100999999999999993000       0.0     False      100  999999999999993000   \n",
       "2  100999999999999993000       0.0     False      100  999999999999993000   \n",
       "3  100999999999999994000    1000.0     False      100  999999999999994000   \n",
       "\n",
       "     balance_sl  div  digits  \n",
       "0  1.000000e+18    2      21  \n",
       "1  1.000000e+18    2      21  \n",
       "2  1.000000e+18    2      21  \n",
       "3  1.000000e+18    2      21  "
      ]
     },
     "execution_count": 93,
     "metadata": {},
     "output_type": "execute_result"
    }
   ],
   "source": [
    "df_act"
   ]
  },
  {
   "cell_type": "code",
   "execution_count": 89,
   "metadata": {},
   "outputs": [],
   "source": [
    "#balance_sl a float version of balance_"
   ]
  },
  {
   "cell_type": "code",
   "execution_count": 85,
   "metadata": {},
   "outputs": [],
   "source": [
    "df_act['balance_sl'] = (df_act['balance_'].astype(float))"
   ]
  },
  {
   "cell_type": "code",
   "execution_count": 86,
   "metadata": {
    "scrolled": false
   },
   "outputs": [
    {
     "data": {
      "text/plain": [
       "1.000000e+18    3\n",
       "1.000000e+18    1\n",
       "Name: balance_sl, dtype: int64"
      ]
     },
     "execution_count": 86,
     "metadata": {},
     "output_type": "execute_result"
    }
   ],
   "source": [
    "df_act['balance_sl'].value_counts()"
   ]
  },
  {
   "cell_type": "code",
   "execution_count": null,
   "metadata": {},
   "outputs": [],
   "source": []
  },
  {
   "cell_type": "markdown",
   "metadata": {},
   "source": [
    "import math"
   ]
  },
  {
   "cell_type": "markdown",
   "metadata": {},
   "source": [
    "df_act['digits'] = df_act['balance_1'].astype(str).str.len()"
   ]
  },
  {
   "cell_type": "markdown",
   "metadata": {},
   "source": [
    "df_act['div'] = df_act['digits'].apply(lambda x: math.ceil(x/18))"
   ]
  },
  {
   "cell_type": "code",
   "execution_count": 87,
   "metadata": {
    "scrolled": true
   },
   "outputs": [
    {
     "data": {
      "text/plain": [
       "<matplotlib.axes._subplots.AxesSubplot at 0x24292854898>"
      ]
     },
     "execution_count": 87,
     "metadata": {},
     "output_type": "execute_result"
    },
    {
     "data": {
      "image/png": "[encoded data removed]",
      "text/plain": [
       "<Figure size 432x288 with 1 Axes>"
      ]
     },
     "metadata": {
      "needs_background": "light"
     },
     "output_type": "display_data"
    }
   ],
   "source": [
    "df_act.plot(x=\"tick_timestamp\", y=\"balance_sl\", kind=\"bar\", color= \"b\")"
   ]
  },
  {
   "cell_type": "code",
   "execution_count": 120,
   "metadata": {},
   "outputs": [
    {
     "data": {
      "text/html": [
       "<div>\n",
       "<style scoped>\n",
       "    .dataframe tbody tr th:only-of-type {\n",
       "        vertical-align: middle;\n",
       "    }\n",
       "\n",
       "    .dataframe tbody tr th {\n",
       "        vertical-align: top;\n",
       "    }\n",
       "\n",
       "    .dataframe thead th {\n",
       "        text-align: right;\n",
       "    }\n",
       "</style>\n",
       "<table border=\"1\" class=\"dataframe\">\n",
       "  <thead>\n",
       "    <tr style=\"text-align: right;\">\n",
       "      <th></th>\n",
       "      <th>timestamp</th>\n",
       "      <th>payload_timestamp</th>\n",
       "      <th>tick_timestamp</th>\n",
       "      <th>balance</th>\n",
       "      <th>rounded_balance</th>\n",
       "      <th>open_to_node</th>\n",
       "      <th>close_to_node</th>\n",
       "      <th>balance_1</th>\n",
       "      <th>bal_diff</th>\n",
       "      <th>activity</th>\n",
       "      <th>_balance</th>\n",
       "      <th>balance_</th>\n",
       "      <th>balance_sl</th>\n",
       "      <th>div</th>\n",
       "      <th>digits</th>\n",
       "    </tr>\n",
       "  </thead>\n",
       "  <tbody>\n",
       "    <tr>\n",
       "      <th>0</th>\n",
       "      <td>2021-10-07T16:09:30.870781784Z</td>\n",
       "      <td>2021-10-07T16:09:30.857Z</td>\n",
       "      <td>2021-10-07 16:09:30.857</td>\n",
       "      <td>100999999999999993000</td>\n",
       "      <td>101.0</td>\n",
       "      <td>0.0</td>\n",
       "      <td>16Uiu2HAmHnyJaC8whSRBXXk3ikPuH19g52ZgxvA3sUnpV...</td>\n",
       "      <td>100999999999999993000</td>\n",
       "      <td>1000.0</td>\n",
       "      <td>False</td>\n",
       "      <td>100</td>\n",
       "      <td>999999999999993000</td>\n",
       "      <td>1.000000e+18</td>\n",
       "      <td>2</td>\n",
       "      <td>21</td>\n",
       "    </tr>\n",
       "    <tr>\n",
       "      <th>1</th>\n",
       "      <td>2021-10-07T16:10:24.141280277Z</td>\n",
       "      <td>2021-10-07T16:10:24.128Z</td>\n",
       "      <td>2021-10-07 16:10:24.128</td>\n",
       "      <td>100999999999999993000</td>\n",
       "      <td>101.0</td>\n",
       "      <td>0.0</td>\n",
       "      <td>16Uiu2HAmHnyJaC8whSRBXXk3ikPuH19g52ZgxvA3sUnpV...</td>\n",
       "      <td>100999999999999993000</td>\n",
       "      <td>0.0</td>\n",
       "      <td>False</td>\n",
       "      <td>100</td>\n",
       "      <td>999999999999993000</td>\n",
       "      <td>1.000000e+18</td>\n",
       "      <td>2</td>\n",
       "      <td>21</td>\n",
       "    </tr>\n",
       "    <tr>\n",
       "      <th>2</th>\n",
       "      <td>2021-10-07T16:11:18.420668286Z</td>\n",
       "      <td>2021-10-07T16:11:18.404Z</td>\n",
       "      <td>2021-10-07 16:11:18.404</td>\n",
       "      <td>100999999999999993000</td>\n",
       "      <td>101.0</td>\n",
       "      <td>0.0</td>\n",
       "      <td>16Uiu2HAmHnyJaC8whSRBXXk3ikPuH19g52ZgxvA3sUnpV...</td>\n",
       "      <td>100999999999999993000</td>\n",
       "      <td>0.0</td>\n",
       "      <td>False</td>\n",
       "      <td>100</td>\n",
       "      <td>999999999999993000</td>\n",
       "      <td>1.000000e+18</td>\n",
       "      <td>2</td>\n",
       "      <td>21</td>\n",
       "    </tr>\n",
       "    <tr>\n",
       "      <th>3</th>\n",
       "      <td>2021-10-08T11:16:55.959680021Z</td>\n",
       "      <td>2021-10-08T11:16:55.941Z</td>\n",
       "      <td>2021-10-08 11:16:55.941</td>\n",
       "      <td>100999999999999994000</td>\n",
       "      <td>101.0</td>\n",
       "      <td>0.0</td>\n",
       "      <td>0</td>\n",
       "      <td>100999999999999994000</td>\n",
       "      <td>1000.0</td>\n",
       "      <td>False</td>\n",
       "      <td>100</td>\n",
       "      <td>999999999999994000</td>\n",
       "      <td>1.000000e+18</td>\n",
       "      <td>2</td>\n",
       "      <td>21</td>\n",
       "    </tr>\n",
       "  </tbody>\n",
       "</table>\n",
       "</div>"
      ],
      "text/plain": [
       "                        timestamp         payload_timestamp  \\\n",
       "0  2021-10-07T16:09:30.870781784Z  2021-10-07T16:09:30.857Z   \n",
       "1  2021-10-07T16:10:24.141280277Z  2021-10-07T16:10:24.128Z   \n",
       "2  2021-10-07T16:11:18.420668286Z  2021-10-07T16:11:18.404Z   \n",
       "3  2021-10-08T11:16:55.959680021Z  2021-10-08T11:16:55.941Z   \n",
       "\n",
       "           tick_timestamp                balance  rounded_balance  \\\n",
       "0 2021-10-07 16:09:30.857  100999999999999993000            101.0   \n",
       "1 2021-10-07 16:10:24.128  100999999999999993000            101.0   \n",
       "2 2021-10-07 16:11:18.404  100999999999999993000            101.0   \n",
       "3 2021-10-08 11:16:55.941  100999999999999994000            101.0   \n",
       "\n",
       "   open_to_node                                      close_to_node  \\\n",
       "0           0.0  16Uiu2HAmHnyJaC8whSRBXXk3ikPuH19g52ZgxvA3sUnpV...   \n",
       "1           0.0  16Uiu2HAmHnyJaC8whSRBXXk3ikPuH19g52ZgxvA3sUnpV...   \n",
       "2           0.0  16Uiu2HAmHnyJaC8whSRBXXk3ikPuH19g52ZgxvA3sUnpV...   \n",
       "3           0.0                                                  0   \n",
       "\n",
       "               balance_1  bal_diff  activity _balance            balance_  \\\n",
       "0  100999999999999993000    1000.0     False      100  999999999999993000   \n",
       "1  100999999999999993000       0.0     False      100  999999999999993000   \n",
       "2  100999999999999993000       0.0     False      100  999999999999993000   \n",
       "3  100999999999999994000    1000.0     False      100  999999999999994000   \n",
       "\n",
       "     balance_sl  div  digits  \n",
       "0  1.000000e+18    2      21  \n",
       "1  1.000000e+18    2      21  \n",
       "2  1.000000e+18    2      21  \n",
       "3  1.000000e+18    2      21  "
      ]
     },
     "execution_count": 120,
     "metadata": {},
     "output_type": "execute_result"
    }
   ],
   "source": [
    "df_act"
   ]
  },
  {
   "cell_type": "code",
   "execution_count": 115,
   "metadata": {},
   "outputs": [],
   "source": [
    "c= df_act['balance_sl']"
   ]
  },
  {
   "cell_type": "code",
   "execution_count": 122,
   "metadata": {
    "scrolled": false
   },
   "outputs": [
    {
     "data": {
      "image/png": "[encoded data removed]",
      "text/plain": [
       "<Figure size 576x576 with 1 Axes>"
      ]
     },
     "metadata": {
      "needs_background": "light"
     },
     "output_type": "display_data"
    }
   ],
   "source": [
    "fig, ax = plt.subplots(figsize=(8, 8))\n",
    "\n",
    "ax.plot(a, b, color=color1, lw=4)\n",
    "\n",
    "ax.set_xlabel(\"Time\")\n",
    "ax.set_ylabel(\"Balance\", color=color1)\n",
    "\n",
    "#ax=plt.gca()\n",
    "#ax.set_xticks(a)\n",
    "plt.xticks(rotation= 80)\n",
    "\n",
    "xfmt = md.DateFormatter('%Y-%m-%d %H:%M:%S')\n",
    "ax.xaxis.set_major_formatter(xfmt)\n",
    "plt.show()"
   ]
  },
  {
   "cell_type": "code",
   "execution_count": 123,
   "metadata": {},
   "outputs": [],
   "source": [
    "#openings and closings"
   ]
  },
  {
   "cell_type": "code",
   "execution_count": 94,
   "metadata": {},
   "outputs": [],
   "source": [
    "df_close = (df.groupby(['close_to_node']).agg({'close_to_node': ['count'], 'tick_timestamp': ['first'], 'tick_timestamp': ['last'],} )).reset_index(drop=False)"
   ]
  },
  {
   "cell_type": "code",
   "execution_count": 95,
   "metadata": {
    "scrolled": true
   },
   "outputs": [
    {
     "data": {
      "text/html": [
       "<div>\n",
       "<style scoped>\n",
       "    .dataframe tbody tr th:only-of-type {\n",
       "        vertical-align: middle;\n",
       "    }\n",
       "\n",
       "    .dataframe tbody tr th {\n",
       "        vertical-align: top;\n",
       "    }\n",
       "\n",
       "    .dataframe thead tr th {\n",
       "        text-align: left;\n",
       "    }\n",
       "</style>\n",
       "<table border=\"1\" class=\"dataframe\">\n",
       "  <thead>\n",
       "    <tr>\n",
       "      <th></th>\n",
       "      <th colspan=\"2\" halign=\"left\">close_to_node</th>\n",
       "      <th>tick_timestamp</th>\n",
       "    </tr>\n",
       "    <tr>\n",
       "      <th></th>\n",
       "      <th></th>\n",
       "      <th>count</th>\n",
       "      <th>last</th>\n",
       "    </tr>\n",
       "  </thead>\n",
       "  <tbody>\n",
       "    <tr>\n",
       "      <th>0</th>\n",
       "      <td>0</td>\n",
       "      <td>8103</td>\n",
       "      <td>2021-10-09 10:20:43.440</td>\n",
       "    </tr>\n",
       "    <tr>\n",
       "      <th>1</th>\n",
       "      <td>16Uiu2HAmHnyJaC8whSRBXXk3ikPuH19g52ZgxvA3sUnpV...</td>\n",
       "      <td>3</td>\n",
       "      <td>2021-10-07 16:11:18.404</td>\n",
       "    </tr>\n",
       "  </tbody>\n",
       "</table>\n",
       "</div>"
      ],
      "text/plain": [
       "                                       close_to_node        \\\n",
       "                                                     count   \n",
       "0                                                  0  8103   \n",
       "1  16Uiu2HAmHnyJaC8whSRBXXk3ikPuH19g52ZgxvA3sUnpV...     3   \n",
       "\n",
       "           tick_timestamp  \n",
       "                     last  \n",
       "0 2021-10-09 10:20:43.440  \n",
       "1 2021-10-07 16:11:18.404  "
      ]
     },
     "execution_count": 95,
     "metadata": {},
     "output_type": "execute_result"
    }
   ],
   "source": [
    "df_close"
   ]
  }
 ],
 "metadata": {
  "interpreter": {
   "hash": "31f2aee4e71d21fbe5cf8b01ff0e069b9275f58929596ceb00d14d90e3e16cd6"
  },
  "kernelspec": {
   "display_name": "Python 3 (ipykernel)",
   "language": "python",
   "name": "python3"
  },
  "language_info": {
   "codemirror_mode": {
    "name": "ipython",
    "version": 3
   },
   "file_extension": ".py",
   "mimetype": "text/x-python",
   "name": "python",
   "nbconvert_exporter": "python",
   "pygments_lexer": "ipython3",
   "version": "3.7.1"
  }
 },
 "nbformat": 4,
 "nbformat_minor": 2
}
