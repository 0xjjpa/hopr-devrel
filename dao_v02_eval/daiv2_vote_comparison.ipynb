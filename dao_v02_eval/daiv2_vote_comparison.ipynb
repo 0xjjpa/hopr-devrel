{
 "cells": [
  {
   "cell_type": "code",
   "execution_count": 1,
   "id": "b22db5b9",
   "metadata": {},
   "outputs": [],
   "source": [
    "import pandas as pd\n",
    "import numpy as np\n",
    "import openpyxl"
   ]
  },
  {
   "cell_type": "code",
   "execution_count": 141,
   "id": "11c2b0a0",
   "metadata": {},
   "outputs": [],
   "source": [
    "import requests\n",
    "import json\n",
    "import pandas as pd\n",
    "import time\n",
    "from datetime import datetime\n",
    "from os import path\n",
    "import requests\n",
    "import seaborn as sns; sns.set()\n",
    "import matplotlib.pyplot as plt\n",
    "%matplotlib inline\n",
    "import numpy as np; np.random.seed(0)\n",
    "from datetime import date\n",
    "import scipy.stats"
   ]
  },
  {
   "cell_type": "code",
   "execution_count": 142,
   "id": "d9c871d8",
   "metadata": {},
   "outputs": [],
   "source": [
    "from scipy import stats"
   ]
  },
  {
   "cell_type": "code",
   "execution_count": 143,
   "id": "63475673",
   "metadata": {},
   "outputs": [],
   "source": [
    "import pandas as pd\n",
    "import numpy as np; np.random.seed(0)\n",
    "import seaborn as sns; sns.set()\n",
    "import matplotlib.pyplot as plt\n",
    "%matplotlib inline\n",
    "from sklearn.utils import shuffle\n",
    "from typing import Dict, Tuple, Callable\n",
    "from sklearn.model_selection import train_test_split\n",
    "from sklearn import metrics\n",
    "from sklearn.model_selection import cross_val_score, cross_val_predict"
   ]
  },
  {
   "cell_type": "code",
   "execution_count": 144,
   "id": "49488ab2",
   "metadata": {},
   "outputs": [],
   "source": [
    "from __future__ import print_function\n",
    "import matplotlib.ticker as ticker\n",
    "from colour import Color"
   ]
  },
  {
   "cell_type": "code",
   "execution_count": 145,
   "id": "dbe4784e",
   "metadata": {},
   "outputs": [],
   "source": [
    "#yellow\n",
    "color1 = '#%02x%02x%02x' % (255, 255, 160)\n",
    "#bright-blue\n",
    "color2 = '#%02x%02x%02x' % (0, 0, 180)\n",
    "#sky-blue\n",
    "color3 = '#%02x%02x%02x' % (180, 240, 255)\n",
    "#dark-blue\n",
    "color4 = '#%02x%02x%02x' % (0, 0, 80)\n",
    "#steel-blue\n",
    "color4 = '#%02x%02x%02x' % (60, 100, 165)"
   ]
  },
  {
   "cell_type": "code",
   "execution_count": 146,
   "id": "934ab153",
   "metadata": {},
   "outputs": [],
   "source": [
    "#snapshot files"
   ]
  },
  {
   "cell_type": "code",
   "execution_count": 147,
   "id": "665ba247",
   "metadata": {},
   "outputs": [],
   "source": [
    "df_d = pd.read_csv('snapshot-report-d.csv')\n",
    "df_h = pd.read_csv('snapshot-report-h.csv')"
   ]
  },
  {
   "cell_type": "code",
   "execution_count": 148,
   "id": "e7477c6e",
   "metadata": {},
   "outputs": [],
   "source": [
    "#recoding the NaNs to 0"
   ]
  },
  {
   "cell_type": "code",
   "execution_count": 149,
   "id": "28ab0420",
   "metadata": {},
   "outputs": [],
   "source": [
    "df_d = df_d.fillna(0)\n",
    "df_h = df_h.fillna(0)"
   ]
  },
  {
   "cell_type": "code",
   "execution_count": 160,
   "id": "7ad604d4",
   "metadata": {},
   "outputs": [],
   "source": [
    "#creating the weighted vesion of the original choices, df_d (dai), df_h (hopr)"
   ]
  },
  {
   "cell_type": "code",
   "execution_count": 151,
   "id": "4bd11778",
   "metadata": {},
   "outputs": [],
   "source": [
    "df_d['ch.7'] = df_d['choice.7']/(df_d['choice.7'] + df_d['choice.6'] + df_d['choice.5'] + df_d['choice.4'] + df_d['choice.3'] + df_d['choice.2'] + df_d['choice.1'])*df_d['balance']\n",
    "df_d['ch.6'] = df_d['choice.6']/(df_d['choice.7'] + df_d['choice.6'] + df_d['choice.5'] + df_d['choice.4'] + df_d['choice.3'] + df_d['choice.2'] + df_d['choice.1'])*df_d['balance']\n",
    "df_d['ch.5'] = df_d['choice.5']/(df_d['choice.7'] + df_d['choice.6'] + df_d['choice.5'] + df_d['choice.4'] + df_d['choice.3'] + df_d['choice.2'] + df_d['choice.1'])*df_d['balance']\n",
    "df_d['ch.4'] = df_d['choice.4']/(df_d['choice.7'] + df_d['choice.6'] + df_d['choice.5'] + df_d['choice.4'] + df_d['choice.3'] + df_d['choice.2'] + df_d['choice.1'])*df_d['balance']\n",
    "df_d['ch.3'] = df_d['choice.3']/(df_d['choice.7'] + df_d['choice.6'] + df_d['choice.5'] + df_d['choice.4'] + df_d['choice.3'] + df_d['choice.2'] + df_d['choice.1'])*df_d['balance']\n",
    "df_d['ch.2'] = df_d['choice.2']/(df_d['choice.7'] + df_d['choice.6'] + df_d['choice.5'] + df_d['choice.4'] + df_d['choice.3'] + df_d['choice.2'] + df_d['choice.1'])*df_d['balance']\n",
    "df_d['ch.1'] = df_d['choice.1']/(df_d['choice.7'] + df_d['choice.6'] + df_d['choice.5'] + df_d['choice.4'] + df_d['choice.3'] + df_d['choice.2'] + df_d['choice.1'])*df_d['balance']"
   ]
  },
  {
   "cell_type": "code",
   "execution_count": 152,
   "id": "8595a116",
   "metadata": {},
   "outputs": [],
   "source": [
    "sum_choices_h = df_h['choice.5'] + df_h['choice.4'] + df_h['choice.3'] + df_h['choice.2'] + df_h['choice.1']\n",
    "b = df_h['balance']"
   ]
  },
  {
   "cell_type": "code",
   "execution_count": 153,
   "id": "ddba1d47",
   "metadata": {},
   "outputs": [],
   "source": [
    "df_h['ch.1'] = df_h['choice.1']/sum_choices_h*b\n",
    "df_h['ch.2'] = df_h['choice.2']/sum_choices_h*b\n",
    "df_h['ch.3'] = df_h['choice.3']/sum_choices_h*b\n",
    "df_h['ch.4'] = df_h['choice.4']/sum_choices_h*b\n",
    "df_h['ch.5'] = df_h['choice.5']/sum_choices_h*b"
   ]
  },
  {
   "cell_type": "code",
   "execution_count": 154,
   "id": "4ec52a41",
   "metadata": {},
   "outputs": [],
   "source": [
    "#sum of the weighted choices"
   ]
  },
  {
   "cell_type": "code",
   "execution_count": 155,
   "id": "9bf4819e",
   "metadata": {},
   "outputs": [],
   "source": [
    "df_d['choices'] = (df_d['ch.7'] + df_d['ch.6'] + df_d['ch.5'] + df_d['ch.4'] + df_d['ch.3'] + df_d['ch.2'] + df_d['ch.1'])"
   ]
  },
  {
   "cell_type": "code",
   "execution_count": 156,
   "id": "19aee9db",
   "metadata": {},
   "outputs": [],
   "source": [
    "df_h['choices'] = (df_h['ch.5'] + df_h['ch.4'] + df_h['ch.3'] + df_h['ch.2'] + df_h['ch.1'])"
   ]
  },
  {
   "cell_type": "code",
   "execution_count": 157,
   "id": "a10fd972",
   "metadata": {},
   "outputs": [],
   "source": [
    "#subfile from the new weighted variables"
   ]
  },
  {
   "cell_type": "code",
   "execution_count": 158,
   "id": "b2924ab6",
   "metadata": {
    "scrolled": false
   },
   "outputs": [],
   "source": [
    "df_w = df_d[[\"ch.1\", \"ch.2\", \"ch.3\", \"ch.4\", \"ch.5\", \"ch.6\", \"ch.7\"]]"
   ]
  },
  {
   "cell_type": "code",
   "execution_count": 159,
   "id": "ed3a4173",
   "metadata": {},
   "outputs": [],
   "source": [
    "df_w_h = df_h[[\"ch.1\", \"ch.2\", \"ch.3\", \"ch.4\", \"ch.5\"]]"
   ]
  },
  {
   "cell_type": "code",
   "execution_count": null,
   "id": "482cc116",
   "metadata": {},
   "outputs": [],
   "source": [
    "#listing the columns of the weighted files and summing up the aggregation column "
   ]
  },
  {
   "cell_type": "code",
   "execution_count": 19,
   "id": "1cffdeb2",
   "metadata": {},
   "outputs": [],
   "source": [
    "g = df_w.columns\n",
    "s = df_d['choices'].sum()"
   ]
  },
  {
   "cell_type": "code",
   "execution_count": 20,
   "id": "34b33e25",
   "metadata": {},
   "outputs": [],
   "source": [
    "g_h = df_w_h.columns\n",
    "s_h = df_h['choices'].sum()"
   ]
  },
  {
   "cell_type": "code",
   "execution_count": 21,
   "id": "78fb0bf6",
   "metadata": {},
   "outputs": [],
   "source": [
    "#calculating the shares of the choices based on the calculated variables"
   ]
  },
  {
   "cell_type": "code",
   "execution_count": 22,
   "id": "dccbdf9a",
   "metadata": {},
   "outputs": [],
   "source": [
    "weighted_prop = []\n",
    "for i in g:\n",
    "    a = df_w[i].sum()/s\n",
    "    weighted_prop.append(a)"
   ]
  },
  {
   "cell_type": "code",
   "execution_count": 161,
   "id": "3b018afa",
   "metadata": {},
   "outputs": [],
   "source": [
    "weighted_prop_h = []\n",
    "for i in g_h:\n",
    "    a = df_w_h[i].sum()/s_h\n",
    "    weighted_prop_h.append(a)"
   ]
  },
  {
   "cell_type": "code",
   "execution_count": 162,
   "id": "1bb7e148",
   "metadata": {
    "scrolled": true
   },
   "outputs": [
    {
     "data": {
      "text/plain": [
       "[0.02998570734714411,\n",
       " 0.09741908320980887,\n",
       " 0.14040598240606286,\n",
       " 0.26077281240990685,\n",
       " 0.04138736416693406,\n",
       " 0.2761316809072232,\n",
       " 0.1538973695529202]"
      ]
     },
     "execution_count": 162,
     "metadata": {},
     "output_type": "execute_result"
    }
   ],
   "source": [
    "weighted_prop"
   ]
  },
  {
   "cell_type": "code",
   "execution_count": 163,
   "id": "7d5e952f",
   "metadata": {},
   "outputs": [
    {
     "data": {
      "text/plain": [
       "[0.2702593929251076,\n",
       " 0.09398486953860434,\n",
       " 0.3064212368378067,\n",
       " 0.29377155445072867,\n",
       " 0.03556294624775256]"
      ]
     },
     "execution_count": 163,
     "metadata": {},
     "output_type": "execute_result"
    }
   ],
   "source": [
    "weighted_prop_h"
   ]
  },
  {
   "cell_type": "code",
   "execution_count": 26,
   "id": "fb6b5d4d",
   "metadata": {},
   "outputs": [],
   "source": [
    "#creating the new quadratic weighted variables"
   ]
  },
  {
   "cell_type": "code",
   "execution_count": 164,
   "id": "3c840bb8",
   "metadata": {},
   "outputs": [],
   "source": [
    "df_d['ch.7b'] = df_d['ch.7']**(1/2)\n",
    "df_d['ch.6b'] = df_d['ch.6']**(1/2)\n",
    "df_d['ch.5b'] = df_d['ch.5']**(1/2)\n",
    "df_d['ch.4b'] = df_d['ch.4']**(1/2)\n",
    "df_d['ch.3b'] = df_d['ch.3']**(1/2)\n",
    "df_d['ch.2b'] = df_d['ch.2']**(1/2)\n",
    "df_d['ch.1b'] = df_d['ch.1']**(1/2)"
   ]
  },
  {
   "cell_type": "code",
   "execution_count": 165,
   "id": "f25e403a",
   "metadata": {},
   "outputs": [],
   "source": [
    "df_h['ch.5b'] = df_h['ch.5']**(1/2)\n",
    "df_h['ch.4b'] = df_h['ch.4']**(1/2)\n",
    "df_h['ch.3b'] = df_h['ch.3']**(1/2)\n",
    "df_h['ch.2b'] = df_h['ch.2']**(1/2)\n",
    "df_h['ch.1b'] = df_h['ch.1']**(1/2)"
   ]
  },
  {
   "cell_type": "code",
   "execution_count": 166,
   "id": "e729ca45",
   "metadata": {},
   "outputs": [],
   "source": [
    "#subfiles from the new variables and the sum of them in the original dataframe"
   ]
  },
  {
   "cell_type": "code",
   "execution_count": 167,
   "id": "851a721e",
   "metadata": {},
   "outputs": [],
   "source": [
    "df_qw = df_d[[\"ch.1b\", \"ch.2b\", \"ch.3b\", \"ch.4b\", \"ch.5b\", \"ch.6b\", \"ch.7b\"]]"
   ]
  },
  {
   "cell_type": "code",
   "execution_count": 31,
   "id": "352e72e5",
   "metadata": {},
   "outputs": [],
   "source": [
    "df_qw_h = df_h[[\"ch.1b\", \"ch.2b\", \"ch.3b\", \"ch.4b\", \"ch.5b\"]]"
   ]
  },
  {
   "cell_type": "code",
   "execution_count": 32,
   "id": "32386075",
   "metadata": {},
   "outputs": [],
   "source": [
    "df_d['choices_b'] = df_d['ch.7'] + df_d['ch.6b'] + df_d['ch.5b'] + df_d['ch.4b'] + df_d['ch.3b'] + df_d['ch.2b'] + df_d['ch.1b']"
   ]
  },
  {
   "cell_type": "code",
   "execution_count": 33,
   "id": "47a36ba0",
   "metadata": {},
   "outputs": [],
   "source": [
    "df_h['choices_b'] = df_h['ch.5b'] + df_h['ch.4b'] + df_h['ch.3b'] + df_h['ch.2b'] + df_h['ch.1b']"
   ]
  },
  {
   "cell_type": "code",
   "execution_count": 168,
   "id": "994904e9",
   "metadata": {},
   "outputs": [],
   "source": [
    "#list of columns"
   ]
  },
  {
   "cell_type": "code",
   "execution_count": 169,
   "id": "507823b9",
   "metadata": {},
   "outputs": [],
   "source": [
    "f = df_qw.columns"
   ]
  },
  {
   "cell_type": "code",
   "execution_count": 170,
   "id": "44c0cff2",
   "metadata": {},
   "outputs": [],
   "source": [
    "f_h = df_qw_h.columns"
   ]
  },
  {
   "cell_type": "code",
   "execution_count": 171,
   "id": "51dbaf59",
   "metadata": {},
   "outputs": [],
   "source": [
    "#creating a list from the square of the choices sum"
   ]
  },
  {
   "cell_type": "code",
   "execution_count": 172,
   "id": "17fe4fda",
   "metadata": {},
   "outputs": [],
   "source": [
    "sum_sq = []\n",
    "for i in f:\n",
    "    d = df_qw[i].sum()**2\n",
    "    sum_sq.append(d)"
   ]
  },
  {
   "cell_type": "code",
   "execution_count": 173,
   "id": "fbdb44b9",
   "metadata": {},
   "outputs": [],
   "source": [
    "sum_sq_h = []\n",
    "for i in f_h:\n",
    "    d = df_qw_h[i].sum()**2\n",
    "    sum_sq_h.append(d)"
   ]
  },
  {
   "cell_type": "code",
   "execution_count": 174,
   "id": "dc0bde83",
   "metadata": {
    "scrolled": true
   },
   "outputs": [
    {
     "data": {
      "text/plain": [
       "[6272767.436474023,\n",
       " 31486850.610992204,\n",
       " 43467656.1684103,\n",
       " 20991790.827679027,\n",
       " 11841834.614466973,\n",
       " 175643742.8688648,\n",
       " 39902406.01675005]"
      ]
     },
     "execution_count": 174,
     "metadata": {},
     "output_type": "execute_result"
    }
   ],
   "source": [
    "sum_sq"
   ]
  },
  {
   "cell_type": "code",
   "execution_count": 175,
   "id": "72c08969",
   "metadata": {},
   "outputs": [
    {
     "data": {
      "text/plain": [
       "[65918243.85582987,\n",
       " 38440562.37032022,\n",
       " 145084991.2764962,\n",
       " 312816858.1857742,\n",
       " 6202667.323311114]"
      ]
     },
     "execution_count": 175,
     "metadata": {},
     "output_type": "execute_result"
    }
   ],
   "source": [
    "sum_sq_h"
   ]
  },
  {
   "cell_type": "code",
   "execution_count": 176,
   "id": "20cf9ee6",
   "metadata": {},
   "outputs": [],
   "source": [
    "#calculating the shares of choices based on the quadratic variables"
   ]
  },
  {
   "cell_type": "code",
   "execution_count": 177,
   "id": "54befd2c",
   "metadata": {},
   "outputs": [
    {
     "data": {
      "text/plain": [
       "329607048.54363734"
      ]
     },
     "execution_count": 177,
     "metadata": {},
     "output_type": "execute_result"
    }
   ],
   "source": [
    "sq = sum(sum_sq)\n",
    "sq"
   ]
  },
  {
   "cell_type": "code",
   "execution_count": 178,
   "id": "8cdac2af",
   "metadata": {},
   "outputs": [
    {
     "data": {
      "text/plain": [
       "568463323.0117316"
      ]
     },
     "execution_count": 178,
     "metadata": {},
     "output_type": "execute_result"
    }
   ],
   "source": [
    "sq_h = sum(sum_sq_h)\n",
    "sq_h"
   ]
  },
  {
   "cell_type": "code",
   "execution_count": 179,
   "id": "a8afae4f",
   "metadata": {},
   "outputs": [],
   "source": [
    "quadratic_prop = []\n",
    "for i in sum_sq:\n",
    "    t = i/sq\n",
    "    quadratic_prop.append(t)   "
   ]
  },
  {
   "cell_type": "code",
   "execution_count": 180,
   "id": "c9504266",
   "metadata": {},
   "outputs": [],
   "source": [
    "quadratic_prop_h = []\n",
    "for i in sum_sq_h:\n",
    "    t = i/sq_h\n",
    "    quadratic_prop_h.append(t)"
   ]
  },
  {
   "cell_type": "code",
   "execution_count": 181,
   "id": "9f9a48a2",
   "metadata": {
    "scrolled": true
   },
   "outputs": [
    {
     "data": {
      "text/plain": [
       "[0.01903104761924883,\n",
       " 0.09552845046887277,\n",
       " 0.13187720456971821,\n",
       " 0.06368732380096502,\n",
       " 0.03592712797493227,\n",
       " 0.5328883094125063,\n",
       " 0.12106053615375671]"
      ]
     },
     "execution_count": 181,
     "metadata": {},
     "output_type": "execute_result"
    }
   ],
   "source": [
    "quadratic_prop"
   ]
  },
  {
   "cell_type": "code",
   "execution_count": 182,
   "id": "56cb2ce3",
   "metadata": {},
   "outputs": [
    {
     "data": {
      "text/plain": [
       "[0.11595865764319414,\n",
       " 0.06762188660943198,\n",
       " 0.25522313472720215,\n",
       " 0.5502850325126754,\n",
       " 0.010911288507496387]"
      ]
     },
     "execution_count": 182,
     "metadata": {},
     "output_type": "execute_result"
    }
   ],
   "source": [
    "quadratic_prop_h"
   ]
  },
  {
   "cell_type": "code",
   "execution_count": 183,
   "id": "82338369",
   "metadata": {
    "scrolled": false
   },
   "outputs": [
    {
     "data": {
      "text/html": [
       "<div>\n",
       "<style scoped>\n",
       "    .dataframe tbody tr th:only-of-type {\n",
       "        vertical-align: middle;\n",
       "    }\n",
       "\n",
       "    .dataframe tbody tr th {\n",
       "        vertical-align: top;\n",
       "    }\n",
       "\n",
       "    .dataframe thead th {\n",
       "        text-align: right;\n",
       "    }\n",
       "</style>\n",
       "<table border=\"1\" class=\"dataframe\">\n",
       "  <thead>\n",
       "    <tr style=\"text-align: right;\">\n",
       "      <th></th>\n",
       "      <th>ch.1b</th>\n",
       "      <th>ch.2b</th>\n",
       "      <th>ch.3b</th>\n",
       "      <th>ch.4b</th>\n",
       "      <th>ch.5b</th>\n",
       "      <th>ch.6b</th>\n",
       "      <th>ch.7b</th>\n",
       "    </tr>\n",
       "  </thead>\n",
       "  <tbody>\n",
       "    <tr>\n",
       "      <th>count</th>\n",
       "      <td>273.000000</td>\n",
       "      <td>273.000000</td>\n",
       "      <td>273.000000</td>\n",
       "      <td>273.000000</td>\n",
       "      <td>273.000000</td>\n",
       "      <td>273.000000</td>\n",
       "      <td>273.000000</td>\n",
       "    </tr>\n",
       "    <tr>\n",
       "      <th>mean</th>\n",
       "      <td>9.174173</td>\n",
       "      <td>20.554266</td>\n",
       "      <td>24.150185</td>\n",
       "      <td>16.782710</td>\n",
       "      <td>12.605116</td>\n",
       "      <td>48.546027</td>\n",
       "      <td>23.138590</td>\n",
       "    </tr>\n",
       "    <tr>\n",
       "      <th>std</th>\n",
       "      <td>28.938566</td>\n",
       "      <td>50.706357</td>\n",
       "      <td>61.085426</td>\n",
       "      <td>87.947757</td>\n",
       "      <td>33.361478</td>\n",
       "      <td>78.258115</td>\n",
       "      <td>64.762930</td>\n",
       "    </tr>\n",
       "    <tr>\n",
       "      <th>min</th>\n",
       "      <td>0.000000</td>\n",
       "      <td>0.000000</td>\n",
       "      <td>0.000000</td>\n",
       "      <td>0.000000</td>\n",
       "      <td>0.000000</td>\n",
       "      <td>0.000000</td>\n",
       "      <td>0.000000</td>\n",
       "    </tr>\n",
       "    <tr>\n",
       "      <th>25%</th>\n",
       "      <td>0.000000</td>\n",
       "      <td>0.000000</td>\n",
       "      <td>0.000000</td>\n",
       "      <td>0.000000</td>\n",
       "      <td>0.000000</td>\n",
       "      <td>0.000000</td>\n",
       "      <td>0.000000</td>\n",
       "    </tr>\n",
       "    <tr>\n",
       "      <th>50%</th>\n",
       "      <td>0.000000</td>\n",
       "      <td>0.000000</td>\n",
       "      <td>0.000000</td>\n",
       "      <td>0.000000</td>\n",
       "      <td>0.000000</td>\n",
       "      <td>8.110262</td>\n",
       "      <td>0.000000</td>\n",
       "    </tr>\n",
       "    <tr>\n",
       "      <th>75%</th>\n",
       "      <td>0.000000</td>\n",
       "      <td>0.000000</td>\n",
       "      <td>18.165902</td>\n",
       "      <td>0.000000</td>\n",
       "      <td>0.000000</td>\n",
       "      <td>78.354208</td>\n",
       "      <td>0.000000</td>\n",
       "    </tr>\n",
       "    <tr>\n",
       "      <th>max</th>\n",
       "      <td>181.345244</td>\n",
       "      <td>326.003722</td>\n",
       "      <td>574.272694</td>\n",
       "      <td>1215.025198</td>\n",
       "      <td>226.498933</td>\n",
       "      <td>574.272694</td>\n",
       "      <td>477.283271</td>\n",
       "    </tr>\n",
       "  </tbody>\n",
       "</table>\n",
       "</div>"
      ],
      "text/plain": [
       "            ch.1b       ch.2b       ch.3b        ch.4b       ch.5b  \\\n",
       "count  273.000000  273.000000  273.000000   273.000000  273.000000   \n",
       "mean     9.174173   20.554266   24.150185    16.782710   12.605116   \n",
       "std     28.938566   50.706357   61.085426    87.947757   33.361478   \n",
       "min      0.000000    0.000000    0.000000     0.000000    0.000000   \n",
       "25%      0.000000    0.000000    0.000000     0.000000    0.000000   \n",
       "50%      0.000000    0.000000    0.000000     0.000000    0.000000   \n",
       "75%      0.000000    0.000000   18.165902     0.000000    0.000000   \n",
       "max    181.345244  326.003722  574.272694  1215.025198  226.498933   \n",
       "\n",
       "            ch.6b       ch.7b  \n",
       "count  273.000000  273.000000  \n",
       "mean    48.546027   23.138590  \n",
       "std     78.258115   64.762930  \n",
       "min      0.000000    0.000000  \n",
       "25%      0.000000    0.000000  \n",
       "50%      8.110262    0.000000  \n",
       "75%     78.354208    0.000000  \n",
       "max    574.272694  477.283271  "
      ]
     },
     "execution_count": 183,
     "metadata": {},
     "output_type": "execute_result"
    }
   ],
   "source": [
    "df_qw.describe()"
   ]
  },
  {
   "cell_type": "code",
   "execution_count": 184,
   "id": "36888027",
   "metadata": {},
   "outputs": [],
   "source": [
    "#calculating the one account one vote"
   ]
  },
  {
   "cell_type": "code",
   "execution_count": 185,
   "id": "57cace33",
   "metadata": {},
   "outputs": [],
   "source": [
    "df_d['ch.1d'] = df_d['choice.1'].apply(lambda x: 1 if x != 0 else 0)\n",
    "df_d['ch.2d'] = df_d['choice.2'].apply(lambda x: 1 if x != 0 else 0)\n",
    "df_d['ch.3d'] = df_d['choice.3'].apply(lambda x: 1 if x != 0 else 0)\n",
    "df_d['ch.4d'] = df_d['choice.4'].apply(lambda x: 1 if x != 0 else 0)\n",
    "df_d['ch.5d'] = df_d['choice.5'].apply(lambda x: 1 if x != 0 else 0)\n",
    "df_d['ch.6d'] = df_d['choice.6'].apply(lambda x: 1 if x != 0 else 0)\n",
    "df_d['ch.7d'] = df_d['choice.7'].apply(lambda x: 1 if x != 0 else 0)"
   ]
  },
  {
   "cell_type": "code",
   "execution_count": 186,
   "id": "46e6caf5",
   "metadata": {},
   "outputs": [],
   "source": [
    "df_h['ch.1d'] = df_h['choice.1'].apply(lambda x: 1 if x != 0 else 0)\n",
    "df_h['ch.2d'] = df_h['choice.2'].apply(lambda x: 1 if x != 0 else 0)\n",
    "df_h['ch.3d'] = df_h['choice.3'].apply(lambda x: 1 if x != 0 else 0)\n",
    "df_h['ch.4d'] = df_h['choice.4'].apply(lambda x: 1 if x != 0 else 0)\n",
    "df_h['ch.5d'] = df_h['choice.5'].apply(lambda x: 1 if x != 0 else 0)"
   ]
  },
  {
   "cell_type": "code",
   "execution_count": 190,
   "id": "76c1401b",
   "metadata": {},
   "outputs": [],
   "source": [
    "#summing up the number of votes choosen per account"
   ]
  },
  {
   "cell_type": "code",
   "execution_count": 194,
   "id": "a2d70e78",
   "metadata": {},
   "outputs": [],
   "source": [
    "df_d['choices_1a'] = (df_d['ch.7d'] + df_d['ch.6d'] + df_d['ch.5d'] + df_d['ch.4d'] + df_d['ch.3d'] + df_d['ch.2d'] + df_d['ch.1d'])"
   ]
  },
  {
   "cell_type": "code",
   "execution_count": 195,
   "id": "d5405181",
   "metadata": {},
   "outputs": [],
   "source": [
    "df_h['choices_1a'] = (df_h['ch.5d'] + df_h['ch.4d'] + df_h['ch.3d'] + df_h['ch.2d'] + df_h['ch.1d'])"
   ]
  },
  {
   "cell_type": "code",
   "execution_count": 196,
   "id": "544ccbc0",
   "metadata": {},
   "outputs": [],
   "source": [
    "#creating sublife from the dummy variables "
   ]
  },
  {
   "cell_type": "code",
   "execution_count": 197,
   "id": "14ddf3e1",
   "metadata": {},
   "outputs": [],
   "source": [
    "df_a1 = df_d[[\"ch.1d\", \"ch.2d\", \"ch.3d\", \"ch.4d\", \"ch.5d\", \"ch.6d\", \"ch.7d\"]]"
   ]
  },
  {
   "cell_type": "code",
   "execution_count": 198,
   "id": "78bafc68",
   "metadata": {},
   "outputs": [],
   "source": [
    "df_a1_h = df_h[[\"ch.1d\", \"ch.2d\", \"ch.3d\", \"ch.4d\", \"ch.5d\"]]"
   ]
  },
  {
   "cell_type": "code",
   "execution_count": 199,
   "id": "0ca19152",
   "metadata": {},
   "outputs": [],
   "source": [
    "#calculating the share of each choice"
   ]
  },
  {
   "cell_type": "code",
   "execution_count": 200,
   "id": "8d0958f8",
   "metadata": {},
   "outputs": [],
   "source": [
    "df_d['ch.1da'] = df_d['ch.1d']*1/df_d['choices_1a']\n",
    "df_d['ch.2da'] = df_d['ch.2d']*1/df_d['choices_1a']\n",
    "df_d['ch.3da'] = df_d['ch.3d']*1/df_d['choices_1a']\n",
    "df_d['ch.4da'] = df_d['ch.4d']*1/df_d['choices_1a']\n",
    "df_d['ch.5da'] = df_d['ch.5d']*1/df_d['choices_1a']\n",
    "df_d['ch.6da'] = df_d['ch.6d']*1/df_d['choices_1a']\n",
    "df_d['ch.7da'] = df_d['ch.7d']*1/df_d['choices_1a']"
   ]
  },
  {
   "cell_type": "code",
   "execution_count": 201,
   "id": "92fdefd1",
   "metadata": {},
   "outputs": [],
   "source": [
    "df_h['ch.1da'] = df_h['ch.1d']*1/df_h['choices_1a']\n",
    "df_h['ch.2da'] = df_h['ch.2d']*1/df_h['choices_1a']\n",
    "df_h['ch.3da'] = df_h['ch.3d']*1/df_h['choices_1a']\n",
    "df_h['ch.4da'] = df_h['ch.4d']*1/df_h['choices_1a']\n",
    "df_h['ch.5da'] = df_h['ch.5d']*1/df_h['choices_1a']"
   ]
  },
  {
   "cell_type": "code",
   "execution_count": 202,
   "id": "4e424300",
   "metadata": {},
   "outputs": [],
   "source": [
    "#subfiles"
   ]
  },
  {
   "cell_type": "code",
   "execution_count": 58,
   "id": "cd85b78e",
   "metadata": {},
   "outputs": [
    {
     "data": {
      "text/html": [
       "<div>\n",
       "<style scoped>\n",
       "    .dataframe tbody tr th:only-of-type {\n",
       "        vertical-align: middle;\n",
       "    }\n",
       "\n",
       "    .dataframe tbody tr th {\n",
       "        vertical-align: top;\n",
       "    }\n",
       "\n",
       "    .dataframe thead th {\n",
       "        text-align: right;\n",
       "    }\n",
       "</style>\n",
       "<table border=\"1\" class=\"dataframe\">\n",
       "  <thead>\n",
       "    <tr style=\"text-align: right;\">\n",
       "      <th></th>\n",
       "      <th>ch.1da</th>\n",
       "      <th>ch.2da</th>\n",
       "      <th>ch.3da</th>\n",
       "      <th>ch.4da</th>\n",
       "      <th>ch.5da</th>\n",
       "      <th>ch.6da</th>\n",
       "      <th>ch.7da</th>\n",
       "    </tr>\n",
       "  </thead>\n",
       "  <tbody>\n",
       "    <tr>\n",
       "      <th>0</th>\n",
       "      <td>0.0</td>\n",
       "      <td>0.0</td>\n",
       "      <td>0.0</td>\n",
       "      <td>0.0</td>\n",
       "      <td>0.0</td>\n",
       "      <td>1.0</td>\n",
       "      <td>0.0</td>\n",
       "    </tr>\n",
       "    <tr>\n",
       "      <th>1</th>\n",
       "      <td>0.0</td>\n",
       "      <td>0.0</td>\n",
       "      <td>0.0</td>\n",
       "      <td>0.0</td>\n",
       "      <td>0.0</td>\n",
       "      <td>1.0</td>\n",
       "      <td>0.0</td>\n",
       "    </tr>\n",
       "    <tr>\n",
       "      <th>2</th>\n",
       "      <td>0.0</td>\n",
       "      <td>0.0</td>\n",
       "      <td>0.0</td>\n",
       "      <td>0.0</td>\n",
       "      <td>0.0</td>\n",
       "      <td>1.0</td>\n",
       "      <td>0.0</td>\n",
       "    </tr>\n",
       "    <tr>\n",
       "      <th>3</th>\n",
       "      <td>0.0</td>\n",
       "      <td>0.0</td>\n",
       "      <td>0.0</td>\n",
       "      <td>0.0</td>\n",
       "      <td>0.0</td>\n",
       "      <td>1.0</td>\n",
       "      <td>0.0</td>\n",
       "    </tr>\n",
       "    <tr>\n",
       "      <th>4</th>\n",
       "      <td>0.0</td>\n",
       "      <td>0.5</td>\n",
       "      <td>0.0</td>\n",
       "      <td>0.0</td>\n",
       "      <td>0.0</td>\n",
       "      <td>0.5</td>\n",
       "      <td>0.0</td>\n",
       "    </tr>\n",
       "    <tr>\n",
       "      <th>...</th>\n",
       "      <td>...</td>\n",
       "      <td>...</td>\n",
       "      <td>...</td>\n",
       "      <td>...</td>\n",
       "      <td>...</td>\n",
       "      <td>...</td>\n",
       "      <td>...</td>\n",
       "    </tr>\n",
       "    <tr>\n",
       "      <th>268</th>\n",
       "      <td>0.0</td>\n",
       "      <td>0.0</td>\n",
       "      <td>0.5</td>\n",
       "      <td>0.0</td>\n",
       "      <td>0.0</td>\n",
       "      <td>0.5</td>\n",
       "      <td>0.0</td>\n",
       "    </tr>\n",
       "    <tr>\n",
       "      <th>269</th>\n",
       "      <td>0.0</td>\n",
       "      <td>0.0</td>\n",
       "      <td>0.0</td>\n",
       "      <td>0.0</td>\n",
       "      <td>0.0</td>\n",
       "      <td>1.0</td>\n",
       "      <td>0.0</td>\n",
       "    </tr>\n",
       "    <tr>\n",
       "      <th>270</th>\n",
       "      <td>0.0</td>\n",
       "      <td>0.0</td>\n",
       "      <td>0.0</td>\n",
       "      <td>0.0</td>\n",
       "      <td>0.0</td>\n",
       "      <td>1.0</td>\n",
       "      <td>0.0</td>\n",
       "    </tr>\n",
       "    <tr>\n",
       "      <th>271</th>\n",
       "      <td>0.0</td>\n",
       "      <td>0.0</td>\n",
       "      <td>0.0</td>\n",
       "      <td>0.0</td>\n",
       "      <td>0.0</td>\n",
       "      <td>1.0</td>\n",
       "      <td>0.0</td>\n",
       "    </tr>\n",
       "    <tr>\n",
       "      <th>272</th>\n",
       "      <td>0.0</td>\n",
       "      <td>0.0</td>\n",
       "      <td>0.0</td>\n",
       "      <td>0.0</td>\n",
       "      <td>0.0</td>\n",
       "      <td>1.0</td>\n",
       "      <td>0.0</td>\n",
       "    </tr>\n",
       "  </tbody>\n",
       "</table>\n",
       "<p>273 rows × 7 columns</p>\n",
       "</div>"
      ],
      "text/plain": [
       "     ch.1da  ch.2da  ch.3da  ch.4da  ch.5da  ch.6da  ch.7da\n",
       "0       0.0     0.0     0.0     0.0     0.0     1.0     0.0\n",
       "1       0.0     0.0     0.0     0.0     0.0     1.0     0.0\n",
       "2       0.0     0.0     0.0     0.0     0.0     1.0     0.0\n",
       "3       0.0     0.0     0.0     0.0     0.0     1.0     0.0\n",
       "4       0.0     0.5     0.0     0.0     0.0     0.5     0.0\n",
       "..      ...     ...     ...     ...     ...     ...     ...\n",
       "268     0.0     0.0     0.5     0.0     0.0     0.5     0.0\n",
       "269     0.0     0.0     0.0     0.0     0.0     1.0     0.0\n",
       "270     0.0     0.0     0.0     0.0     0.0     1.0     0.0\n",
       "271     0.0     0.0     0.0     0.0     0.0     1.0     0.0\n",
       "272     0.0     0.0     0.0     0.0     0.0     1.0     0.0\n",
       "\n",
       "[273 rows x 7 columns]"
      ]
     },
     "execution_count": 58,
     "metadata": {},
     "output_type": "execute_result"
    }
   ],
   "source": [
    "df_a1a = df_d[[\"ch.1da\", \"ch.2da\", \"ch.3da\", \"ch.4da\", \"ch.5da\", \"ch.6da\", \"ch.7da\"]]"
   ]
  },
  {
   "cell_type": "code",
   "execution_count": 203,
   "id": "717962d7",
   "metadata": {},
   "outputs": [],
   "source": [
    "df_a1a_h = df_h[[\"ch.1da\", \"ch.2da\", \"ch.3da\", \"ch.4da\", \"ch.5da\"]]"
   ]
  },
  {
   "cell_type": "code",
   "execution_count": 60,
   "id": "c9643c3b",
   "metadata": {},
   "outputs": [],
   "source": [
    "df_d['choices_1aa'] = (df_d['ch.7da'] + df_d['ch.6da'] + df_d['ch.5da'] + df_d['ch.4da'] + df_d['ch.3da'] + df_d['ch.2da'] + df_d['ch.1da'])"
   ]
  },
  {
   "cell_type": "code",
   "execution_count": 61,
   "id": "245bee93",
   "metadata": {},
   "outputs": [],
   "source": [
    "df_h['choices_1aa'] = (df_h['ch.5da'] + df_h['ch.4da'] + df_h['ch.3da'] + df_h['ch.2da'] + df_h['ch.1da'])"
   ]
  },
  {
   "cell_type": "code",
   "execution_count": 62,
   "id": "8caeefca",
   "metadata": {},
   "outputs": [],
   "source": [
    "j = df_a1a.columns\n",
    "l = df_d['choices_1aa'].sum()"
   ]
  },
  {
   "cell_type": "code",
   "execution_count": 64,
   "id": "179a14d6",
   "metadata": {},
   "outputs": [],
   "source": [
    "j_h = df_a1a_h.columns\n",
    "l_h = df_h['choices_1aa'].sum()"
   ]
  },
  {
   "cell_type": "code",
   "execution_count": 65,
   "id": "1ff01ff2",
   "metadata": {},
   "outputs": [
    {
     "data": {
      "text/plain": [
       "296.0"
      ]
     },
     "execution_count": 65,
     "metadata": {},
     "output_type": "execute_result"
    }
   ],
   "source": [
    "l_h"
   ]
  },
  {
   "cell_type": "code",
   "execution_count": 66,
   "id": "d49e1e5f",
   "metadata": {},
   "outputs": [],
   "source": [
    "oneaccount_prop = []\n",
    "for i in j:\n",
    "    a = df_a1a[i].sum()/l\n",
    "    oneaccount_prop.append(a)"
   ]
  },
  {
   "cell_type": "code",
   "execution_count": 67,
   "id": "bad5add4",
   "metadata": {},
   "outputs": [],
   "source": [
    "oneaccount_prop_h = []\n",
    "for i in j_h:\n",
    "    a = df_a1a_h[i].sum()/l_h\n",
    "    oneaccount_prop_h.append(a)"
   ]
  },
  {
   "cell_type": "code",
   "execution_count": 207,
   "id": "42b77258",
   "metadata": {},
   "outputs": [
    {
     "data": {
      "text/plain": [
       "[0.05450898308041165,\n",
       " 0.12013779870922726,\n",
       " 0.15371533228676085,\n",
       " 0.06030873888016745,\n",
       " 0.10121227978370835,\n",
       " 0.3646432932147217,\n",
       " 0.1454735740450026]"
      ]
     },
     "execution_count": 207,
     "metadata": {},
     "output_type": "execute_result"
    }
   ],
   "source": [
    "oneaccount_prop"
   ]
  },
  {
   "cell_type": "code",
   "execution_count": 206,
   "id": "ad9fe3e0",
   "metadata": {},
   "outputs": [
    {
     "data": {
      "text/plain": [
       "[0.16041666666666668,\n",
       " 0.15112612612612614,\n",
       " 0.21925675675675677,\n",
       " 0.40394144144144145,\n",
       " 0.065259009009009]"
      ]
     },
     "execution_count": 206,
     "metadata": {},
     "output_type": "execute_result"
    }
   ],
   "source": [
    "oneaccount_prop_h"
   ]
  },
  {
   "cell_type": "code",
   "execution_count": 129,
   "id": "51b725aa",
   "metadata": {},
   "outputs": [
    {
     "data": {
      "image/png": "[encoded data removed]",
      "text/plain": [
       "<Figure size 1080x720 with 1 Axes>"
      ]
     },
     "metadata": {
      "needs_background": "light"
     },
     "output_type": "display_data"
    }
   ],
   "source": [
    "c = [color2, color1, color3]\n",
    "index = ['Proposal 2', \"Proposal 3\", \"Proposal 6\", \"Proposal 7\", \"Proposal 10\", \"Proposal 12\", \"Proposal 14\"]\n",
    "df = pd.DataFrame({'1t1v': weighted_prop,\n",
    "                   'qv': quadratic_prop,\n",
    "                  '1a1v': oneaccount_prop}, index=index)\n",
    "ax = df.plot.bar(rot=0, width=0.6, fontsize=20, figsize=(15, 10), color=c)\n",
    "ax.set_title('DAI votes', fontsize=26)\n",
    "ax.legend(fontsize=20)\n",
    "plt.savefig('dai_votes.png')"
   ]
  },
  {
   "cell_type": "code",
   "execution_count": 130,
   "id": "f84feebc",
   "metadata": {
    "scrolled": false
   },
   "outputs": [
    {
     "data": {
      "image/png": "[encoded data removed]",
      "text/plain": [
       "<Figure size 1080x720 with 1 Axes>"
      ]
     },
     "metadata": {
      "needs_background": "light"
     },
     "output_type": "display_data"
    }
   ],
   "source": [
    "c = [color1, color2, color3]\n",
    "index = ['Proposal 2', \"Proposal 3\", \"Proposal 4\", \"Proposal 5\", \"Proposal 7\"]\n",
    "df = pd.DataFrame({'1t1v': weighted_prop_h,\n",
    "                   'qv': quadratic_prop_h,\n",
    "                  '1a1v': oneaccount_prop_h}, index=index)\n",
    "ax = df.plot.bar(rot=0, width=0.6, fontsize=25, figsize=(15, 10), color=c)\n",
    "ax.set_title('HOPR votes', fontsize=25)\n",
    "ax.legend(fontsize=20)\n",
    "plt.savefig('hopr_votes.png')"
   ]
  },
  {
   "cell_type": "code",
   "execution_count": 211,
   "id": "76db5b9a",
   "metadata": {},
   "outputs": [
    {
     "data": {
      "text/plain": [
       "Text(0.5,1,'quadratic_dai')"
      ]
     },
     "execution_count": 211,
     "metadata": {},
     "output_type": "execute_result"
    },
    {
     "data": {
      "image/png": "[encoded data removed]",
      "text/plain": [
       "<Figure size 1080x720 with 1 Axes>"
      ]
     },
     "metadata": {
      "needs_background": "light"
     },
     "output_type": "display_data"
    }
   ],
   "source": [
    "plt.figure(figsize=(15,10))\n",
    "sns.boxplot(data = df_qw_h).set_title('quadratic_dai')"
   ]
  },
  {
   "cell_type": "markdown",
   "id": "0c343cd4",
   "metadata": {},
   "source": [
    "z = np.abs(stats.zscore(df_w))\n",
    "print(z)"
   ]
  },
  {
   "cell_type": "markdown",
   "id": "a1ffe9bc",
   "metadata": {},
   "source": [
    "threshold = 3\n",
    "out_sok = np.where(z > 3)\n",
    "out_df = pd.DataFrame(data=out_sok)\n",
    "out_df"
   ]
  },
  {
   "cell_type": "markdown",
   "id": "9d82bbf9",
   "metadata": {},
   "source": [
    "toremove = np.unique(out_sok[0])\n",
    "toremove"
   ]
  },
  {
   "cell_type": "markdown",
   "id": "66e644f6",
   "metadata": {},
   "source": [
    "df_w = df_w.drop(index = toremove)"
   ]
  }
 ],
 "metadata": {
  "kernelspec": {
   "display_name": "Python 3 (ipykernel)",
   "language": "python",
   "name": "python3"
  },
  "language_info": {
   "codemirror_mode": {
    "name": "ipython",
    "version": 3
   },
   "file_extension": ".py",
   "mimetype": "text/x-python",
   "name": "python",
   "nbconvert_exporter": "python",
   "pygments_lexer": "ipython3",
   "version": "3.7.1"
  }
 },
 "nbformat": 4,
 "nbformat_minor": 5
}
